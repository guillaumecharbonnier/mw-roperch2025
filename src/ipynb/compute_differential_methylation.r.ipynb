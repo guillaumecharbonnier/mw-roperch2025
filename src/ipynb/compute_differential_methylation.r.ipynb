{
 "cells": [
  {
   "cell_type": "code",
   "execution_count": 1,
   "id": "2655c2a7",
   "metadata": {
    "tags": [
     "snakemake-job-properties"
    ]
   },
   "outputs": [],
   "source": [
    "######## snakemake preamble start (automatically inserted, do not edit) ########\n",
    "library(methods)\n",
    "Snakemake <- setClass(\n",
    "    \"Snakemake\",\n",
    "    slots = c(\n",
    "        input = \"list\",\n",
    "        output = \"list\",\n",
    "        params = \"list\",\n",
    "        wildcards = \"list\",\n",
    "        threads = \"numeric\",\n",
    "        log = \"list\",\n",
    "        resources = \"list\",\n",
    "        config = \"list\",\n",
    "        rule = \"character\",\n",
    "        bench_iteration = \"numeric\",\n",
    "        scriptdir = \"character\",\n",
    "        source = \"function\"\n",
    "    )\n",
    ")\n",
    "snakemake <- Snakemake(\n",
    "    input = list(),\n",
    "    output = list('out/ipynb/compute_differential_methylation/dev_unpaired.xlsx', \"xlsx\" = 'out/ipynb/compute_differential_methylation/dev_unpaired.xlsx'),\n",
    "    params = list(),\n",
    "    wildcards = list('dev_unpaired', \"design\" = 'dev_unpaired'),\n",
    "    threads = 2,\n",
    "    log = list('out/ipynb/compute_differential_methylation/dev_unpaired.rds', 'out/ipynb/compute_differential_methylation/dev_unpaired.r.ipynb', \"rds\" = 'out/ipynb/compute_differential_methylation/dev_unpaired.rds', \"notebook\" = 'out/ipynb/compute_differential_methylation/dev_unpaired.r.ipynb'),\n",
    "    resources = list('tmpdir', \"tmpdir\" = '/tmp'),\n",
    "    config = list(),\n",
    "    rule = 'ipynb_compute_differential_methylation',\n",
    "    bench_iteration = as.numeric(NA),\n",
    "    scriptdir = '/data/thymus/mw/mw-oncodiag/src/snakemake/rules/../../ipynb',\n",
    "    source = function(...){\n",
    "        wd <- getwd()\n",
    "        setwd(snakemake@scriptdir)\n",
    "        source(...)\n",
    "        setwd(wd)\n",
    "    }\n",
    ")\n",
    "setwd('/data/thymus/mw/mw-oncodiag');\n",
    "\n",
    "######## snakemake preamble end #########\n"
   ]
  },
  {
   "cell_type": "code",
   "execution_count": 2,
   "id": "8e449f62",
   "metadata": {
    "slideshow": {
     "slide_type": "skip"
    },
    "tags": [
     "remove-input"
    ]
   },
   "outputs": [],
   "source": [
    "# start coding here"
   ]
  },
  {
   "cell_type": "code",
   "execution_count": 3,
   "id": "2ee8c2ed-ee20-4121-8ff1-d983b888ebff",
   "metadata": {},
   "outputs": [
    {
     "data": {
      "text/markdown": [
       "_Compute differential methylation dev_unpaired_\n",
       "\n",
       "__Oncodiag project__\n",
       "\n",
       "[Guillaume Charbonnier](mailto:gc.bioinfo@gmail.com)\n",
       "\n",
       "2023-02-27"
      ]
     },
     "metadata": {},
     "output_type": "display_data"
    }
   ],
   "source": [
    "IRdisplay::display_markdown(\n",
    "    sprintf(\n",
    "\"_Compute differential methylation %s_\n",
    "\n",
    "__Oncodiag project__\n",
    "\n",
    "[Guillaume Charbonnier](mailto:gc.bioinfo@gmail.com)\n",
    "\n",
    "%s\",\n",
    "        snakemake@wildcards$design,\n",
    "        format(Sys.Date(), \"%Y-%m-%d\")\n",
    "    )\n",
    ")"
   ]
  },
  {
   "cell_type": "markdown",
   "id": "082c2ea6-9d05-48c3-9cf2-ee88852b2844",
   "metadata": {
    "slideshow": {
     "slide_type": "slide"
    },
    "tags": []
   },
   "source": [
    "# Abstract\n",
    "\n",
    "The aim of this analysis is to compute differential methylation between Tumor and Normal samples for the following design:"
   ]
  },
  {
   "cell_type": "code",
   "execution_count": 4,
   "id": "b833dfbd-ef3d-4551-bb8c-3cabc2ff8fd0",
   "metadata": {},
   "outputs": [
    {
     "data": {
      "text/html": [
       "'dev_unpaired'"
      ],
      "text/latex": [
       "'dev\\_unpaired'"
      ],
      "text/markdown": [
       "'dev_unpaired'"
      ],
      "text/plain": [
       "[1] \"dev_unpaired\""
      ]
     },
     "metadata": {},
     "output_type": "display_data"
    }
   ],
   "source": [
    "snakemake@wildcards$design"
   ]
  },
  {
   "cell_type": "markdown",
   "id": "7ed114e1-d1ff-473c-a4a1-c25b4c7f2e1d",
   "metadata": {
    "slideshow": {
     "slide_type": "subslide"
    },
    "tags": []
   },
   "source": [
    "# Methods\n",
    "\n",
    "## Load dependencies"
   ]
  },
  {
   "cell_type": "markdown",
   "id": "24191172-e5b0-4c5d-b4c5-ee6a0cc589a8",
   "metadata": {
    "slideshow": {
     "slide_type": "subslide"
    },
    "tags": []
   },
   "source": [
    "### Packages"
   ]
  },
  {
   "cell_type": "code",
   "execution_count": 5,
   "id": "8a4fe98c-a611-4d31-8303-f02876ccc4cd",
   "metadata": {
    "tags": []
   },
   "outputs": [
    {
     "name": "stderr",
     "output_type": "stream",
     "text": [
      "'getOption(\"repos\")' replaces Bioconductor standard repositories, see\n",
      "'?repositories' for details\n",
      "\n",
      "replacement repositories:\n",
      "    CRAN: https://cran.r-project.org\n",
      "\n",
      "\n",
      "Bioconductor version 3.16 (BiocManager 1.30.19), R 4.2.2 (2022-10-31)\n",
      "\n",
      "Warning message:\n",
      "“package(s) not installed when version(s) same as or greater than current; use\n",
      "  `force = TRUE` to re-install: 'openxlsx' 'DT' 'DSS' 'bsseq' 'ChIPpeakAnno'\n",
      "  'org.Hs.eg.db' 'TxDb.Hsapiens.UCSC.hg19.knownGene' 'ggpubr' 'tidyr'”\n",
      "Loading required package: Biobase\n",
      "\n",
      "Loading required package: BiocGenerics\n",
      "\n",
      "\n",
      "Attaching package: ‘BiocGenerics’\n",
      "\n",
      "\n",
      "The following objects are masked from ‘package:stats’:\n",
      "\n",
      "    IQR, mad, sd, var, xtabs\n",
      "\n",
      "\n",
      "The following objects are masked from ‘package:base’:\n",
      "\n",
      "    anyDuplicated, aperm, append, as.data.frame, basename, cbind,\n",
      "    colnames, dirname, do.call, duplicated, eval, evalq, Filter, Find,\n",
      "    get, grep, grepl, intersect, is.unsorted, lapply, Map, mapply,\n",
      "    match, mget, order, paste, pmax, pmax.int, pmin, pmin.int,\n",
      "    Position, rank, rbind, Reduce, rownames, sapply, setdiff, sort,\n",
      "    table, tapply, union, unique, unsplit, which.max, which.min\n",
      "\n",
      "\n",
      "Welcome to Bioconductor\n",
      "\n",
      "    Vignettes contain introductory material; view with\n",
      "    'browseVignettes()'. To cite Bioconductor, see\n",
      "    'citation(\"Biobase\")', and for packages 'citation(\"pkgname\")'.\n",
      "\n",
      "\n",
      "Loading required package: BiocParallel\n",
      "\n",
      "Loading required package: bsseq\n",
      "\n",
      "Loading required package: GenomicRanges\n",
      "\n",
      "Loading required package: stats4\n",
      "\n",
      "Loading required package: S4Vectors\n",
      "\n",
      "\n",
      "Attaching package: ‘S4Vectors’\n",
      "\n",
      "\n",
      "The following objects are masked from ‘package:base’:\n",
      "\n",
      "    expand.grid, I, unname\n",
      "\n",
      "\n",
      "Loading required package: IRanges\n",
      "\n",
      "Loading required package: GenomeInfoDb\n",
      "\n",
      "Loading required package: SummarizedExperiment\n",
      "\n",
      "Loading required package: MatrixGenerics\n",
      "\n",
      "Loading required package: matrixStats\n",
      "\n",
      "\n",
      "Attaching package: ‘matrixStats’\n",
      "\n",
      "\n",
      "The following objects are masked from ‘package:Biobase’:\n",
      "\n",
      "    anyMissing, rowMedians\n",
      "\n",
      "\n",
      "\n",
      "Attaching package: ‘MatrixGenerics’\n",
      "\n",
      "\n",
      "The following objects are masked from ‘package:matrixStats’:\n",
      "\n",
      "    colAlls, colAnyNAs, colAnys, colAvgsPerRowSet, colCollapse,\n",
      "    colCounts, colCummaxs, colCummins, colCumprods, colCumsums,\n",
      "    colDiffs, colIQRDiffs, colIQRs, colLogSumExps, colMadDiffs,\n",
      "    colMads, colMaxs, colMeans2, colMedians, colMins, colOrderStats,\n",
      "    colProds, colQuantiles, colRanges, colRanks, colSdDiffs, colSds,\n",
      "    colSums2, colTabulates, colVarDiffs, colVars, colWeightedMads,\n",
      "    colWeightedMeans, colWeightedMedians, colWeightedSds,\n",
      "    colWeightedVars, rowAlls, rowAnyNAs, rowAnys, rowAvgsPerColSet,\n",
      "    rowCollapse, rowCounts, rowCummaxs, rowCummins, rowCumprods,\n",
      "    rowCumsums, rowDiffs, rowIQRDiffs, rowIQRs, rowLogSumExps,\n",
      "    rowMadDiffs, rowMads, rowMaxs, rowMeans2, rowMedians, rowMins,\n",
      "    rowOrderStats, rowProds, rowQuantiles, rowRanges, rowRanks,\n",
      "    rowSdDiffs, rowSds, rowSums2, rowTabulates, rowVarDiffs, rowVars,\n",
      "    rowWeightedMads, rowWeightedMeans, rowWeightedMedians,\n",
      "    rowWeightedSds, rowWeightedVars\n",
      "\n",
      "\n",
      "The following object is masked from ‘package:Biobase’:\n",
      "\n",
      "    rowMedians\n",
      "\n",
      "\n",
      "Loading required package: parallel\n",
      "\n",
      "Loading required package: AnnotationDbi\n",
      "\n",
      "\n",
      "\n",
      "Loading required package: GenomicFeatures\n",
      "\n",
      "Loading required package: ggplot2\n",
      "\n",
      "\n",
      "Attaching package: 'tidyr'\n",
      "\n",
      "\n",
      "The following object is masked from 'package:S4Vectors':\n",
      "\n",
      "    expand\n",
      "\n",
      "\n"
     ]
    }
   ],
   "source": [
    "if (!require(\"BiocManager\", quietly = TRUE)) {\n",
    "    install.packages(\n",
    "        \"BiocManager\",\n",
    "        quiet = TRUE\n",
    "    )\n",
    "}\n",
    "packages <- c(\n",
    "  # \"data.table\",\n",
    "  # \"dplyr\",\n",
    "  \"openxlsx\",\n",
    "  \"DT\",\n",
    "  # \"methylSig\",\n",
    "  \"DSS\",\n",
    "  \"bsseq\",\n",
    "  \"ChIPpeakAnno\",\n",
    "  # \"ChIPseeker\",\n",
    "  # \"methyAnalysis\",\n",
    "  \"org.Hs.eg.db\",\n",
    "  \"TxDb.Hsapiens.UCSC.hg19.knownGene\",\n",
    "  # \"EnhancedVolcano\",\n",
    "  # \"data.table\",\n",
    "  \"ggpubr\",\n",
    "  # \"ComplexHeatmap\",\n",
    "  \"tidyr\"\n",
    ")\n",
    "BiocManager::install(\n",
    "    packages,\n",
    "    update = FALSE,\n",
    "    quiet = TRUE,\n",
    "    Ncpus = parallel::detectCores()\n",
    ")\n",
    "invisible(\n",
    "    lapply(\n",
    "      packages,\n",
    "      library,\n",
    "      character.only = TRUE\n",
    "    )\n",
    ")"
   ]
  },
  {
   "cell_type": "code",
   "execution_count": 6,
   "id": "2518be08-c1f3-4fb4-a1d8-0238a0c0e829",
   "metadata": {
    "slideshow": {
     "slide_type": "subslide"
    },
    "tags": []
   },
   "outputs": [
    {
     "data": {
      "text/plain": [
       "R version 4.2.2 (2022-10-31)\n",
       "Platform: x86_64-conda-linux-gnu (64-bit)\n",
       "Running under: Ubuntu 20.04.2 LTS\n",
       "\n",
       "Matrix products: default\n",
       "BLAS/LAPACK: /data/thymus/mw/mw-oncodiag/.snakemake/conda/02e263e4/lib/libopenblasp-r0.3.21.so\n",
       "\n",
       "locale:\n",
       " [1] LC_CTYPE=C.UTF-8       LC_NUMERIC=C           LC_TIME=C.UTF-8       \n",
       " [4] LC_COLLATE=C.UTF-8     LC_MONETARY=C.UTF-8    LC_MESSAGES=C.UTF-8   \n",
       " [7] LC_PAPER=C.UTF-8       LC_NAME=C              LC_ADDRESS=C          \n",
       "[10] LC_TELEPHONE=C         LC_MEASUREMENT=C.UTF-8 LC_IDENTIFICATION=C   \n",
       "\n",
       "attached base packages:\n",
       "[1] parallel  stats4    stats     graphics  grDevices utils     datasets \n",
       "[8] methods   base     \n",
       "\n",
       "other attached packages:\n",
       " [1] tidyr_1.3.0                            \n",
       " [2] ggpubr_0.6.0                           \n",
       " [3] ggplot2_3.4.1                          \n",
       " [4] TxDb.Hsapiens.UCSC.hg19.knownGene_3.2.2\n",
       " [5] GenomicFeatures_1.50.2                 \n",
       " [6] org.Hs.eg.db_3.16.0                    \n",
       " [7] AnnotationDbi_1.60.0                   \n",
       " [8] ChIPpeakAnno_3.32.0                    \n",
       " [9] DSS_2.46.0                             \n",
       "[10] bsseq_1.34.0                           \n",
       "[11] SummarizedExperiment_1.28.0            \n",
       "[12] MatrixGenerics_1.10.0                  \n",
       "[13] matrixStats_0.63.0                     \n",
       "[14] GenomicRanges_1.50.0                   \n",
       "[15] GenomeInfoDb_1.34.8                    \n",
       "[16] IRanges_2.32.0                         \n",
       "[17] S4Vectors_0.36.0                       \n",
       "[18] BiocParallel_1.32.5                    \n",
       "[19] Biobase_2.58.0                         \n",
       "[20] BiocGenerics_0.44.0                    \n",
       "[21] DT_0.27                                \n",
       "[22] openxlsx_4.2.5.2                       \n",
       "[23] BiocManager_1.30.19                    \n",
       "\n",
       "loaded via a namespace (and not attached):\n",
       "  [1] backports_1.4.1           uuid_1.1-0               \n",
       "  [3] BiocFileCache_2.6.0       repr_1.1.6               \n",
       "  [5] lazyeval_0.2.2            splines_4.2.2            \n",
       "  [7] digest_0.6.31             ensembldb_2.22.0         \n",
       "  [9] htmltools_0.5.4           fansi_1.0.4              \n",
       " [11] magrittr_2.0.3            memoise_2.0.1            \n",
       " [13] BSgenome_1.66.1           InteractionSet_1.26.0    \n",
       " [15] limma_3.54.0              Biostrings_2.66.0        \n",
       " [17] R.utils_2.12.2            prettyunits_1.1.1        \n",
       " [19] colorspace_2.1-0          blob_1.2.3               \n",
       " [21] rappdirs_0.3.3            dplyr_1.1.0              \n",
       " [23] crayon_1.5.2              RCurl_1.98-1.10          \n",
       " [25] jsonlite_1.8.4            graph_1.76.0             \n",
       " [27] survival_3.5-3            glue_1.6.2               \n",
       " [29] gtable_0.3.1              zlibbioc_1.44.0          \n",
       " [31] XVector_0.38.0            DelayedArray_0.24.0      \n",
       " [33] car_3.1-1                 Rhdf5lib_1.20.0          \n",
       " [35] HDF5Array_1.26.0          abind_1.4-5              \n",
       " [37] scales_1.2.1              futile.options_1.0.1     \n",
       " [39] DBI_1.1.3                 rstatix_0.7.2            \n",
       " [41] Rcpp_1.0.10               progress_1.2.2           \n",
       " [43] bit_4.0.5                 htmlwidgets_1.6.1        \n",
       " [45] httr_1.4.4                ellipsis_0.3.2           \n",
       " [47] pkgconfig_2.0.3           XML_3.99-0.13            \n",
       " [49] R.methodsS3_1.8.2         dbplyr_2.3.0             \n",
       " [51] locfit_1.5-9.7            utf8_1.2.3               \n",
       " [53] tidyselect_1.2.0          rlang_1.0.6              \n",
       " [55] munsell_0.5.0             tools_4.2.2              \n",
       " [57] cachem_1.0.6              cli_3.6.0                \n",
       " [59] generics_0.1.3            RSQLite_2.2.20           \n",
       " [61] broom_1.0.3               evaluate_0.20            \n",
       " [63] stringr_1.5.0             fastmap_1.1.0            \n",
       " [65] yaml_2.3.7                bit64_4.0.5              \n",
       " [67] zip_2.2.2                 purrr_1.0.1              \n",
       " [69] KEGGREST_1.38.0           AnnotationFilter_1.22.0  \n",
       " [71] RBGL_1.74.0               sparseMatrixStats_1.10.0 \n",
       " [73] formatR_1.14              R.oo_1.25.0              \n",
       " [75] xml2_1.3.3                biomaRt_2.54.0           \n",
       " [77] compiler_4.2.2            filelock_1.0.2           \n",
       " [79] curl_4.3.3                png_0.1-8                \n",
       " [81] ggsignif_0.6.4            tibble_3.1.8             \n",
       " [83] stringi_1.7.12            futile.logger_1.4.3      \n",
       " [85] lattice_0.20-45           IRdisplay_1.1            \n",
       " [87] ProtGenerics_1.30.0       Matrix_1.5-3             \n",
       " [89] permute_0.9-7             multtest_2.54.0          \n",
       " [91] vctrs_0.5.2               pillar_1.8.1             \n",
       " [93] lifecycle_1.0.3           rhdf5filters_1.10.0      \n",
       " [95] data.table_1.14.8         bitops_1.0-7             \n",
       " [97] rtracklayer_1.58.0        R6_2.5.1                 \n",
       " [99] BiocIO_1.8.0              codetools_0.2-19         \n",
       "[101] lambda.r_1.2.4            MASS_7.3-58.2            \n",
       "[103] gtools_3.9.4              assertthat_0.2.1         \n",
       "[105] rhdf5_2.42.0              rjson_0.2.21             \n",
       "[107] withr_2.5.0               regioneR_1.30.0          \n",
       "[109] GenomicAlignments_1.34.0  Rsamtools_2.14.0         \n",
       "[111] GenomeInfoDbData_1.2.9    hms_1.1.2                \n",
       "[113] VennDiagram_1.7.3         grid_4.2.2               \n",
       "[115] IRkernel_1.3.2            DelayedMatrixStats_1.20.0\n",
       "[117] carData_3.0-5             pbdZMQ_0.3-9             \n",
       "[119] base64enc_0.1-3           restfulr_0.0.15          "
      ]
     },
     "metadata": {},
     "output_type": "display_data"
    }
   ],
   "source": [
    "sessionInfo()"
   ]
  },
  {
   "cell_type": "code",
   "execution_count": 7,
   "id": "a85e2abd-3457-47d3-aae0-5f07a7545f13",
   "metadata": {},
   "outputs": [],
   "source": [
    "set_plot_dim <- function(\n",
    "    width = 16,\n",
    "    height = 9\n",
    ") {\n",
    "    options(\n",
    "        #jupyter.plot_scale=1,\n",
    "        repr.plot.width = width,\n",
    "        repr.plot.height = height\n",
    "    )\n",
    "}\n",
    "set_plot_dim()"
   ]
  },
  {
   "cell_type": "markdown",
   "id": "d25c731a-bb17-4f55-8a22-99b61e0d04f7",
   "metadata": {
    "slideshow": {
     "slide_type": "subslide"
    },
    "tags": []
   },
   "source": [
    "### Data"
   ]
  },
  {
   "cell_type": "code",
   "execution_count": 8,
   "id": "9dc0108b-320d-4f11-9d95-a2c64c472ec5",
   "metadata": {},
   "outputs": [
    {
     "data": {
      "text/html": [
       "<table class=\"dataframe\">\n",
       "<caption>A data.frame: 6 × 5</caption>\n",
       "<thead>\n",
       "\t<tr><th></th><th scope=col>sample</th><th scope=col>fastq_1</th><th scope=col>fastq_2</th><th scope=col>patient_number</th><th scope=col>tissue</th></tr>\n",
       "\t<tr><th></th><th scope=col>&lt;chr&gt;</th><th scope=col>&lt;chr&gt;</th><th scope=col>&lt;chr&gt;</th><th scope=col>&lt;int&gt;</th><th scope=col>&lt;chr&gt;</th></tr>\n",
       "</thead>\n",
       "<tbody>\n",
       "\t<tr><th scope=row>1</th><td>ODG_080</td><td>inp/ONCODIAG/Novaseq_131222/fastq/ODG_080_S1_R1_001.fastq.gz </td><td>inp/ONCODIAG/Novaseq_131222/fastq/ODG_080_S1_R2_001.fastq.gz </td><td> 1</td><td>normal </td></tr>\n",
       "\t<tr><th scope=row>2</th><td>ODG_081</td><td>inp/ONCODIAG/Novaseq_131222/fastq/ODG_081_S2_R1_001.fastq.gz </td><td>inp/ONCODIAG/Novaseq_131222/fastq/ODG_081_S2_R2_001.fastq.gz </td><td> 1</td><td>tumoral</td></tr>\n",
       "\t<tr><th scope=row>27</th><td>ODG_106</td><td>inp/ONCODIAG/Novaseq_131222/fastq/ODG_106_S27_R1_001.fastq.gz</td><td>inp/ONCODIAG/Novaseq_131222/fastq/ODG_106_S27_R2_001.fastq.gz</td><td>14</td><td>normal </td></tr>\n",
       "\t<tr><th scope=row>28</th><td>ODG_107</td><td>inp/ONCODIAG/Novaseq_131222/fastq/ODG_107_S28_R1_001.fastq.gz</td><td>inp/ONCODIAG/Novaseq_131222/fastq/ODG_107_S28_R2_001.fastq.gz</td><td>14</td><td>tumoral</td></tr>\n",
       "\t<tr><th scope=row>29</th><td>ODG_108</td><td>inp/ONCODIAG/Novaseq_131222/fastq/ODG_108_S29_R1_001.fastq.gz</td><td>inp/ONCODIAG/Novaseq_131222/fastq/ODG_108_S29_R2_001.fastq.gz</td><td>15</td><td>normal </td></tr>\n",
       "\t<tr><th scope=row>30</th><td>ODG_109</td><td>inp/ONCODIAG/Novaseq_131222/fastq/ODG_109_S30_R1_001.fastq.gz</td><td>inp/ONCODIAG/Novaseq_131222/fastq/ODG_109_S30_R2_001.fastq.gz</td><td>15</td><td>tumoral</td></tr>\n",
       "</tbody>\n",
       "</table>\n"
      ],
      "text/latex": [
       "A data.frame: 6 × 5\n",
       "\\begin{tabular}{r|lllll}\n",
       "  & sample & fastq\\_1 & fastq\\_2 & patient\\_number & tissue\\\\\n",
       "  & <chr> & <chr> & <chr> & <int> & <chr>\\\\\n",
       "\\hline\n",
       "\t1 & ODG\\_080 & inp/ONCODIAG/Novaseq\\_131222/fastq/ODG\\_080\\_S1\\_R1\\_001.fastq.gz  & inp/ONCODIAG/Novaseq\\_131222/fastq/ODG\\_080\\_S1\\_R2\\_001.fastq.gz  &  1 & normal \\\\\n",
       "\t2 & ODG\\_081 & inp/ONCODIAG/Novaseq\\_131222/fastq/ODG\\_081\\_S2\\_R1\\_001.fastq.gz  & inp/ONCODIAG/Novaseq\\_131222/fastq/ODG\\_081\\_S2\\_R2\\_001.fastq.gz  &  1 & tumoral\\\\\n",
       "\t27 & ODG\\_106 & inp/ONCODIAG/Novaseq\\_131222/fastq/ODG\\_106\\_S27\\_R1\\_001.fastq.gz & inp/ONCODIAG/Novaseq\\_131222/fastq/ODG\\_106\\_S27\\_R2\\_001.fastq.gz & 14 & normal \\\\\n",
       "\t28 & ODG\\_107 & inp/ONCODIAG/Novaseq\\_131222/fastq/ODG\\_107\\_S28\\_R1\\_001.fastq.gz & inp/ONCODIAG/Novaseq\\_131222/fastq/ODG\\_107\\_S28\\_R2\\_001.fastq.gz & 14 & tumoral\\\\\n",
       "\t29 & ODG\\_108 & inp/ONCODIAG/Novaseq\\_131222/fastq/ODG\\_108\\_S29\\_R1\\_001.fastq.gz & inp/ONCODIAG/Novaseq\\_131222/fastq/ODG\\_108\\_S29\\_R2\\_001.fastq.gz & 15 & normal \\\\\n",
       "\t30 & ODG\\_109 & inp/ONCODIAG/Novaseq\\_131222/fastq/ODG\\_109\\_S30\\_R1\\_001.fastq.gz & inp/ONCODIAG/Novaseq\\_131222/fastq/ODG\\_109\\_S30\\_R2\\_001.fastq.gz & 15 & tumoral\\\\\n",
       "\\end{tabular}\n"
      ],
      "text/markdown": [
       "\n",
       "A data.frame: 6 × 5\n",
       "\n",
       "| <!--/--> | sample &lt;chr&gt; | fastq_1 &lt;chr&gt; | fastq_2 &lt;chr&gt; | patient_number &lt;int&gt; | tissue &lt;chr&gt; |\n",
       "|---|---|---|---|---|---|\n",
       "| 1 | ODG_080 | inp/ONCODIAG/Novaseq_131222/fastq/ODG_080_S1_R1_001.fastq.gz  | inp/ONCODIAG/Novaseq_131222/fastq/ODG_080_S1_R2_001.fastq.gz  |  1 | normal  |\n",
       "| 2 | ODG_081 | inp/ONCODIAG/Novaseq_131222/fastq/ODG_081_S2_R1_001.fastq.gz  | inp/ONCODIAG/Novaseq_131222/fastq/ODG_081_S2_R2_001.fastq.gz  |  1 | tumoral |\n",
       "| 27 | ODG_106 | inp/ONCODIAG/Novaseq_131222/fastq/ODG_106_S27_R1_001.fastq.gz | inp/ONCODIAG/Novaseq_131222/fastq/ODG_106_S27_R2_001.fastq.gz | 14 | normal  |\n",
       "| 28 | ODG_107 | inp/ONCODIAG/Novaseq_131222/fastq/ODG_107_S28_R1_001.fastq.gz | inp/ONCODIAG/Novaseq_131222/fastq/ODG_107_S28_R2_001.fastq.gz | 14 | tumoral |\n",
       "| 29 | ODG_108 | inp/ONCODIAG/Novaseq_131222/fastq/ODG_108_S29_R1_001.fastq.gz | inp/ONCODIAG/Novaseq_131222/fastq/ODG_108_S29_R2_001.fastq.gz | 15 | normal  |\n",
       "| 30 | ODG_109 | inp/ONCODIAG/Novaseq_131222/fastq/ODG_109_S30_R1_001.fastq.gz | inp/ONCODIAG/Novaseq_131222/fastq/ODG_109_S30_R2_001.fastq.gz | 15 | tumoral |\n",
       "\n"
      ],
      "text/plain": [
       "   sample  fastq_1                                                      \n",
       "1  ODG_080 inp/ONCODIAG/Novaseq_131222/fastq/ODG_080_S1_R1_001.fastq.gz \n",
       "2  ODG_081 inp/ONCODIAG/Novaseq_131222/fastq/ODG_081_S2_R1_001.fastq.gz \n",
       "27 ODG_106 inp/ONCODIAG/Novaseq_131222/fastq/ODG_106_S27_R1_001.fastq.gz\n",
       "28 ODG_107 inp/ONCODIAG/Novaseq_131222/fastq/ODG_107_S28_R1_001.fastq.gz\n",
       "29 ODG_108 inp/ONCODIAG/Novaseq_131222/fastq/ODG_108_S29_R1_001.fastq.gz\n",
       "30 ODG_109 inp/ONCODIAG/Novaseq_131222/fastq/ODG_109_S30_R1_001.fastq.gz\n",
       "   fastq_2                                                       patient_number\n",
       "1  inp/ONCODIAG/Novaseq_131222/fastq/ODG_080_S1_R2_001.fastq.gz   1            \n",
       "2  inp/ONCODIAG/Novaseq_131222/fastq/ODG_081_S2_R2_001.fastq.gz   1            \n",
       "27 inp/ONCODIAG/Novaseq_131222/fastq/ODG_106_S27_R2_001.fastq.gz 14            \n",
       "28 inp/ONCODIAG/Novaseq_131222/fastq/ODG_107_S28_R2_001.fastq.gz 14            \n",
       "29 inp/ONCODIAG/Novaseq_131222/fastq/ODG_108_S29_R2_001.fastq.gz 15            \n",
       "30 inp/ONCODIAG/Novaseq_131222/fastq/ODG_109_S30_R2_001.fastq.gz 15            \n",
       "   tissue \n",
       "1  normal \n",
       "2  tumoral\n",
       "27 normal \n",
       "28 tumoral\n",
       "29 normal \n",
       "30 tumoral"
      ]
     },
     "metadata": {},
     "output_type": "display_data"
    }
   ],
   "source": [
    "sample_metadata <- read.csv(\n",
    "  \"src/sample_sheets/all.csv\"\n",
    ")\n",
    "if (grepl(\"^ODG_\", snakemake@wildcards$design)) {\n",
    "    patient <- as.integer(\n",
    "        sub(\n",
    "            \"ODG_\",\n",
    "            \"\",\n",
    "            snakemake@wildcards$design\n",
    "        )\n",
    "    )\n",
    "    patient <- patient / 2 - 39\n",
    "    sample_metadata <- sample_metadata[sample_metadata$patient_number == patient,]    \n",
    "}\n",
    "if (grepl(\"^all_\", snakemake@wildcards$design)) {\n",
    "    # Here I temporarily subset the sample sheets to already available samples\n",
    "    suffix <- \".markdup.sorted_CpG.bedGraph\"\n",
    "    input_dir <- \"out/nextflow/nfcore_methylseq/methyldackel/\"\n",
    "    files <- list.files(\n",
    "        path = input_dir,\n",
    "        pattern = suffix\n",
    "    )\n",
    "    samples <- sub(\n",
    "        suffix,\n",
    "        \"\",\n",
    "        files\n",
    "    )\n",
    "    sample_metadata <- sample_metadata[sample_metadata$sample %in% samples,]\n",
    "}\n",
    "if (grepl(\"^dev_\", snakemake@wildcards$design)) {\n",
    "    sample_metadata <- sample_metadata[sample_metadata$patient_number %in% c(1,14,15),]\n",
    "}\n",
    "sample_metadata"
   ]
  },
  {
   "cell_type": "code",
   "execution_count": 9,
   "id": "cea6afe8-a07b-486b-9ee9-a1e0d9683807",
   "metadata": {},
   "outputs": [],
   "source": [
    "# This will be used to load files with read.bismarck()\n",
    "sample_metadata$bedGraph <- paste0(\n",
    "    'out/nextflow/nfcore_methylseq/methyldackel/',\n",
    "    sample_metadata$sample,\n",
    "    '.markdup.sorted_CpG.bedGraph'\n",
    ")"
   ]
  },
  {
   "cell_type": "code",
   "execution_count": 10,
   "id": "fa00d848-d751-4ae5-a27a-e57d2c567743",
   "metadata": {},
   "outputs": [
    {
     "data": {
      "text/html": [
       "<table class=\"dataframe\">\n",
       "<caption>A data.frame: 6 × 6</caption>\n",
       "<thead>\n",
       "\t<tr><th></th><th scope=col>sample</th><th scope=col>fastq_1</th><th scope=col>fastq_2</th><th scope=col>patient_number</th><th scope=col>tissue</th><th scope=col>bedGraph</th></tr>\n",
       "\t<tr><th></th><th scope=col>&lt;chr&gt;</th><th scope=col>&lt;chr&gt;</th><th scope=col>&lt;chr&gt;</th><th scope=col>&lt;int&gt;</th><th scope=col>&lt;chr&gt;</th><th scope=col>&lt;chr&gt;</th></tr>\n",
       "</thead>\n",
       "<tbody>\n",
       "\t<tr><th scope=row>ODG_080</th><td>ODG_080</td><td>inp/ONCODIAG/Novaseq_131222/fastq/ODG_080_S1_R1_001.fastq.gz </td><td>inp/ONCODIAG/Novaseq_131222/fastq/ODG_080_S1_R2_001.fastq.gz </td><td> 1</td><td>normal </td><td>out/nextflow/nfcore_methylseq/methyldackel/ODG_080.markdup.sorted_CpG.bedGraph</td></tr>\n",
       "\t<tr><th scope=row>ODG_081</th><td>ODG_081</td><td>inp/ONCODIAG/Novaseq_131222/fastq/ODG_081_S2_R1_001.fastq.gz </td><td>inp/ONCODIAG/Novaseq_131222/fastq/ODG_081_S2_R2_001.fastq.gz </td><td> 1</td><td>tumoral</td><td>out/nextflow/nfcore_methylseq/methyldackel/ODG_081.markdup.sorted_CpG.bedGraph</td></tr>\n",
       "\t<tr><th scope=row>ODG_106</th><td>ODG_106</td><td>inp/ONCODIAG/Novaseq_131222/fastq/ODG_106_S27_R1_001.fastq.gz</td><td>inp/ONCODIAG/Novaseq_131222/fastq/ODG_106_S27_R2_001.fastq.gz</td><td>14</td><td>normal </td><td>out/nextflow/nfcore_methylseq/methyldackel/ODG_106.markdup.sorted_CpG.bedGraph</td></tr>\n",
       "\t<tr><th scope=row>ODG_107</th><td>ODG_107</td><td>inp/ONCODIAG/Novaseq_131222/fastq/ODG_107_S28_R1_001.fastq.gz</td><td>inp/ONCODIAG/Novaseq_131222/fastq/ODG_107_S28_R2_001.fastq.gz</td><td>14</td><td>tumoral</td><td>out/nextflow/nfcore_methylseq/methyldackel/ODG_107.markdup.sorted_CpG.bedGraph</td></tr>\n",
       "\t<tr><th scope=row>ODG_108</th><td>ODG_108</td><td>inp/ONCODIAG/Novaseq_131222/fastq/ODG_108_S29_R1_001.fastq.gz</td><td>inp/ONCODIAG/Novaseq_131222/fastq/ODG_108_S29_R2_001.fastq.gz</td><td>15</td><td>normal </td><td>out/nextflow/nfcore_methylseq/methyldackel/ODG_108.markdup.sorted_CpG.bedGraph</td></tr>\n",
       "\t<tr><th scope=row>ODG_109</th><td>ODG_109</td><td>inp/ONCODIAG/Novaseq_131222/fastq/ODG_109_S30_R1_001.fastq.gz</td><td>inp/ONCODIAG/Novaseq_131222/fastq/ODG_109_S30_R2_001.fastq.gz</td><td>15</td><td>tumoral</td><td>out/nextflow/nfcore_methylseq/methyldackel/ODG_109.markdup.sorted_CpG.bedGraph</td></tr>\n",
       "</tbody>\n",
       "</table>\n"
      ],
      "text/latex": [
       "A data.frame: 6 × 6\n",
       "\\begin{tabular}{r|llllll}\n",
       "  & sample & fastq\\_1 & fastq\\_2 & patient\\_number & tissue & bedGraph\\\\\n",
       "  & <chr> & <chr> & <chr> & <int> & <chr> & <chr>\\\\\n",
       "\\hline\n",
       "\tODG\\_080 & ODG\\_080 & inp/ONCODIAG/Novaseq\\_131222/fastq/ODG\\_080\\_S1\\_R1\\_001.fastq.gz  & inp/ONCODIAG/Novaseq\\_131222/fastq/ODG\\_080\\_S1\\_R2\\_001.fastq.gz  &  1 & normal  & out/nextflow/nfcore\\_methylseq/methyldackel/ODG\\_080.markdup.sorted\\_CpG.bedGraph\\\\\n",
       "\tODG\\_081 & ODG\\_081 & inp/ONCODIAG/Novaseq\\_131222/fastq/ODG\\_081\\_S2\\_R1\\_001.fastq.gz  & inp/ONCODIAG/Novaseq\\_131222/fastq/ODG\\_081\\_S2\\_R2\\_001.fastq.gz  &  1 & tumoral & out/nextflow/nfcore\\_methylseq/methyldackel/ODG\\_081.markdup.sorted\\_CpG.bedGraph\\\\\n",
       "\tODG\\_106 & ODG\\_106 & inp/ONCODIAG/Novaseq\\_131222/fastq/ODG\\_106\\_S27\\_R1\\_001.fastq.gz & inp/ONCODIAG/Novaseq\\_131222/fastq/ODG\\_106\\_S27\\_R2\\_001.fastq.gz & 14 & normal  & out/nextflow/nfcore\\_methylseq/methyldackel/ODG\\_106.markdup.sorted\\_CpG.bedGraph\\\\\n",
       "\tODG\\_107 & ODG\\_107 & inp/ONCODIAG/Novaseq\\_131222/fastq/ODG\\_107\\_S28\\_R1\\_001.fastq.gz & inp/ONCODIAG/Novaseq\\_131222/fastq/ODG\\_107\\_S28\\_R2\\_001.fastq.gz & 14 & tumoral & out/nextflow/nfcore\\_methylseq/methyldackel/ODG\\_107.markdup.sorted\\_CpG.bedGraph\\\\\n",
       "\tODG\\_108 & ODG\\_108 & inp/ONCODIAG/Novaseq\\_131222/fastq/ODG\\_108\\_S29\\_R1\\_001.fastq.gz & inp/ONCODIAG/Novaseq\\_131222/fastq/ODG\\_108\\_S29\\_R2\\_001.fastq.gz & 15 & normal  & out/nextflow/nfcore\\_methylseq/methyldackel/ODG\\_108.markdup.sorted\\_CpG.bedGraph\\\\\n",
       "\tODG\\_109 & ODG\\_109 & inp/ONCODIAG/Novaseq\\_131222/fastq/ODG\\_109\\_S30\\_R1\\_001.fastq.gz & inp/ONCODIAG/Novaseq\\_131222/fastq/ODG\\_109\\_S30\\_R2\\_001.fastq.gz & 15 & tumoral & out/nextflow/nfcore\\_methylseq/methyldackel/ODG\\_109.markdup.sorted\\_CpG.bedGraph\\\\\n",
       "\\end{tabular}\n"
      ],
      "text/markdown": [
       "\n",
       "A data.frame: 6 × 6\n",
       "\n",
       "| <!--/--> | sample &lt;chr&gt; | fastq_1 &lt;chr&gt; | fastq_2 &lt;chr&gt; | patient_number &lt;int&gt; | tissue &lt;chr&gt; | bedGraph &lt;chr&gt; |\n",
       "|---|---|---|---|---|---|---|\n",
       "| ODG_080 | ODG_080 | inp/ONCODIAG/Novaseq_131222/fastq/ODG_080_S1_R1_001.fastq.gz  | inp/ONCODIAG/Novaseq_131222/fastq/ODG_080_S1_R2_001.fastq.gz  |  1 | normal  | out/nextflow/nfcore_methylseq/methyldackel/ODG_080.markdup.sorted_CpG.bedGraph |\n",
       "| ODG_081 | ODG_081 | inp/ONCODIAG/Novaseq_131222/fastq/ODG_081_S2_R1_001.fastq.gz  | inp/ONCODIAG/Novaseq_131222/fastq/ODG_081_S2_R2_001.fastq.gz  |  1 | tumoral | out/nextflow/nfcore_methylseq/methyldackel/ODG_081.markdup.sorted_CpG.bedGraph |\n",
       "| ODG_106 | ODG_106 | inp/ONCODIAG/Novaseq_131222/fastq/ODG_106_S27_R1_001.fastq.gz | inp/ONCODIAG/Novaseq_131222/fastq/ODG_106_S27_R2_001.fastq.gz | 14 | normal  | out/nextflow/nfcore_methylseq/methyldackel/ODG_106.markdup.sorted_CpG.bedGraph |\n",
       "| ODG_107 | ODG_107 | inp/ONCODIAG/Novaseq_131222/fastq/ODG_107_S28_R1_001.fastq.gz | inp/ONCODIAG/Novaseq_131222/fastq/ODG_107_S28_R2_001.fastq.gz | 14 | tumoral | out/nextflow/nfcore_methylseq/methyldackel/ODG_107.markdup.sorted_CpG.bedGraph |\n",
       "| ODG_108 | ODG_108 | inp/ONCODIAG/Novaseq_131222/fastq/ODG_108_S29_R1_001.fastq.gz | inp/ONCODIAG/Novaseq_131222/fastq/ODG_108_S29_R2_001.fastq.gz | 15 | normal  | out/nextflow/nfcore_methylseq/methyldackel/ODG_108.markdup.sorted_CpG.bedGraph |\n",
       "| ODG_109 | ODG_109 | inp/ONCODIAG/Novaseq_131222/fastq/ODG_109_S30_R1_001.fastq.gz | inp/ONCODIAG/Novaseq_131222/fastq/ODG_109_S30_R2_001.fastq.gz | 15 | tumoral | out/nextflow/nfcore_methylseq/methyldackel/ODG_109.markdup.sorted_CpG.bedGraph |\n",
       "\n"
      ],
      "text/plain": [
       "        sample  fastq_1                                                      \n",
       "ODG_080 ODG_080 inp/ONCODIAG/Novaseq_131222/fastq/ODG_080_S1_R1_001.fastq.gz \n",
       "ODG_081 ODG_081 inp/ONCODIAG/Novaseq_131222/fastq/ODG_081_S2_R1_001.fastq.gz \n",
       "ODG_106 ODG_106 inp/ONCODIAG/Novaseq_131222/fastq/ODG_106_S27_R1_001.fastq.gz\n",
       "ODG_107 ODG_107 inp/ONCODIAG/Novaseq_131222/fastq/ODG_107_S28_R1_001.fastq.gz\n",
       "ODG_108 ODG_108 inp/ONCODIAG/Novaseq_131222/fastq/ODG_108_S29_R1_001.fastq.gz\n",
       "ODG_109 ODG_109 inp/ONCODIAG/Novaseq_131222/fastq/ODG_109_S30_R1_001.fastq.gz\n",
       "        fastq_2                                                      \n",
       "ODG_080 inp/ONCODIAG/Novaseq_131222/fastq/ODG_080_S1_R2_001.fastq.gz \n",
       "ODG_081 inp/ONCODIAG/Novaseq_131222/fastq/ODG_081_S2_R2_001.fastq.gz \n",
       "ODG_106 inp/ONCODIAG/Novaseq_131222/fastq/ODG_106_S27_R2_001.fastq.gz\n",
       "ODG_107 inp/ONCODIAG/Novaseq_131222/fastq/ODG_107_S28_R2_001.fastq.gz\n",
       "ODG_108 inp/ONCODIAG/Novaseq_131222/fastq/ODG_108_S29_R2_001.fastq.gz\n",
       "ODG_109 inp/ONCODIAG/Novaseq_131222/fastq/ODG_109_S30_R2_001.fastq.gz\n",
       "        patient_number tissue \n",
       "ODG_080  1             normal \n",
       "ODG_081  1             tumoral\n",
       "ODG_106 14             normal \n",
       "ODG_107 14             tumoral\n",
       "ODG_108 15             normal \n",
       "ODG_109 15             tumoral\n",
       "        bedGraph                                                                      \n",
       "ODG_080 out/nextflow/nfcore_methylseq/methyldackel/ODG_080.markdup.sorted_CpG.bedGraph\n",
       "ODG_081 out/nextflow/nfcore_methylseq/methyldackel/ODG_081.markdup.sorted_CpG.bedGraph\n",
       "ODG_106 out/nextflow/nfcore_methylseq/methyldackel/ODG_106.markdup.sorted_CpG.bedGraph\n",
       "ODG_107 out/nextflow/nfcore_methylseq/methyldackel/ODG_107.markdup.sorted_CpG.bedGraph\n",
       "ODG_108 out/nextflow/nfcore_methylseq/methyldackel/ODG_108.markdup.sorted_CpG.bedGraph\n",
       "ODG_109 out/nextflow/nfcore_methylseq/methyldackel/ODG_109.markdup.sorted_CpG.bedGraph"
      ]
     },
     "metadata": {},
     "output_type": "display_data"
    }
   ],
   "source": [
    "# row.names should be declared to be used as row.names of the BSseq object\n",
    "# because DMLtest() uses these row.namesto select samples\n",
    "row.names(sample_metadata) <- sample_metadata$sample\n",
    "sample_metadata"
   ]
  },
  {
   "cell_type": "code",
   "execution_count": 11,
   "id": "fa16ac61-90ac-4383-a5b3-5fa2b1dca6fe",
   "metadata": {},
   "outputs": [
    {
     "name": "stderr",
     "output_type": "stream",
     "text": [
      "Loading required package: DelayedArray\n",
      "\n",
      "Loading required package: Matrix\n",
      "\n",
      "\n",
      "Attaching package: 'Matrix'\n",
      "\n",
      "\n",
      "The following objects are masked from 'package:tidyr':\n",
      "\n",
      "    expand, pack, unpack\n",
      "\n",
      "\n",
      "The following object is masked from 'package:S4Vectors':\n",
      "\n",
      "    expand\n",
      "\n",
      "\n",
      "\n",
      "Attaching package: 'DelayedArray'\n",
      "\n",
      "\n",
      "The following objects are masked from 'package:base':\n",
      "\n",
      "    apply, rowsum, scale, sweep\n",
      "\n",
      "\n",
      "Loading required package: rhdf5\n",
      "\n",
      "\n",
      "Attaching package: 'HDF5Array'\n",
      "\n",
      "\n",
      "The following object is masked from 'package:rhdf5':\n",
      "\n",
      "    h5ls\n",
      "\n",
      "\n"
     ]
    },
    {
     "data": {
      "text/plain": [
       "An object of type 'BSseq' with\n",
       "  55332068 methylation loci\n",
       "  6 samples\n",
       "has not been smoothed\n",
       "Some assays are HDF5Array-backed"
      ]
     },
     "metadata": {},
     "output_type": "display_data"
    }
   ],
   "source": [
    "bsseq_stranded = bsseq::read.bismark(\n",
    "    files = sample_metadata$bedGraph,\n",
    "    colData = sample_metadata,\n",
    "    rmZeroCov = FALSE,\n",
    "    strandCollapse = FALSE,\n",
    "    BACKEND = \"HDF5Array\",\n",
    "    dir = sub(\n",
    "        \".rds\",\n",
    "        \"hdf5a\",\n",
    "        snakemake@log$rds\n",
    "    ),\n",
    "    replace = TRUE\n",
    ")\n",
    "bsseq_stranded"
   ]
  },
  {
   "cell_type": "code",
   "execution_count": 12,
   "id": "07cb83df-40e1-44a2-a03d-8743516fbd79",
   "metadata": {},
   "outputs": [
    {
     "data": {
      "text/html": [
       "<style>\n",
       ".list-inline {list-style: none; margin:0; padding: 0}\n",
       ".list-inline>li {display: inline-block}\n",
       ".list-inline>li:not(:last-child)::after {content: \"\\00b7\"; padding: 0 .5ex}\n",
       "</style>\n",
       "<ol class=list-inline><li>'ODG_080'</li><li>'ODG_081'</li><li>'ODG_106'</li><li>'ODG_107'</li><li>'ODG_108'</li><li>'ODG_109'</li></ol>\n"
      ],
      "text/latex": [
       "\\begin{enumerate*}\n",
       "\\item 'ODG\\_080'\n",
       "\\item 'ODG\\_081'\n",
       "\\item 'ODG\\_106'\n",
       "\\item 'ODG\\_107'\n",
       "\\item 'ODG\\_108'\n",
       "\\item 'ODG\\_109'\n",
       "\\end{enumerate*}\n"
      ],
      "text/markdown": [
       "1. 'ODG_080'\n",
       "2. 'ODG_081'\n",
       "3. 'ODG_106'\n",
       "4. 'ODG_107'\n",
       "5. 'ODG_108'\n",
       "6. 'ODG_109'\n",
       "\n",
       "\n"
      ],
      "text/plain": [
       "[1] \"ODG_080\" \"ODG_081\" \"ODG_106\" \"ODG_107\" \"ODG_108\" \"ODG_109\""
      ]
     },
     "metadata": {},
     "output_type": "display_data"
    }
   ],
   "source": [
    "sampleNames(bsseq_stranded)"
   ]
  },
  {
   "cell_type": "code",
   "execution_count": 13,
   "id": "2ffb59a7-1c5e-4505-8bf8-9b8f2ddfc428",
   "metadata": {},
   "outputs": [
    {
     "data": {
      "text/html": [
       "<style>\n",
       ".list-inline {list-style: none; margin:0; padding: 0}\n",
       ".list-inline>li {display: inline-block}\n",
       ".list-inline>li:not(:last-child)::after {content: \"\\00b7\"; padding: 0 .5ex}\n",
       "</style>\n",
       "<ol class=list-inline><li>1</li><li>3</li><li>5</li></ol>\n"
      ],
      "text/latex": [
       "\\begin{enumerate*}\n",
       "\\item 1\n",
       "\\item 3\n",
       "\\item 5\n",
       "\\end{enumerate*}\n"
      ],
      "text/markdown": [
       "1. 1\n",
       "2. 3\n",
       "3. 5\n",
       "\n",
       "\n"
      ],
      "text/plain": [
       "[1] 1 3 5"
      ]
     },
     "metadata": {},
     "output_type": "display_data"
    }
   ],
   "source": [
    "which(grepl(\"normal\", pData(bsseq_stranded)$tissue))"
   ]
  },
  {
   "cell_type": "code",
   "execution_count": 14,
   "id": "77d7f048-91a6-41b0-9055-9486ecaf725c",
   "metadata": {},
   "outputs": [
    {
     "data": {
      "text/html": [
       "<style>\n",
       ".list-inline {list-style: none; margin:0; padding: 0}\n",
       ".list-inline>li {display: inline-block}\n",
       ".list-inline>li:not(:last-child)::after {content: \"\\00b7\"; padding: 0 .5ex}\n",
       "</style>\n",
       "<ol class=list-inline><li>2</li><li>4</li><li>6</li></ol>\n"
      ],
      "text/latex": [
       "\\begin{enumerate*}\n",
       "\\item 2\n",
       "\\item 4\n",
       "\\item 6\n",
       "\\end{enumerate*}\n"
      ],
      "text/markdown": [
       "1. 2\n",
       "2. 4\n",
       "3. 6\n",
       "\n",
       "\n"
      ],
      "text/plain": [
       "[1] 2 4 6"
      ]
     },
     "metadata": {},
     "output_type": "display_data"
    }
   ],
   "source": [
    "which(grepl(\"tumoral\", pData(bsseq_stranded)$tissue))"
   ]
  },
  {
   "cell_type": "markdown",
   "id": "f86f9fa2-cfab-49a3-ae70-14d2fca35716",
   "metadata": {
    "slideshow": {
     "slide_type": "subslide"
    },
    "tags": []
   },
   "source": [
    "## Compute differential methylation"
   ]
  },
  {
   "cell_type": "code",
   "execution_count": 15,
   "id": "d6005e78-b0b0-48a9-8c6d-7c6008e4f3f6",
   "metadata": {},
   "outputs": [],
   "source": [
    "if (file.exists(snakemake@log$rds)) {\n",
    "    dml_res <- readRDS(snakemake@log$rds)\n",
    "} else {\n",
    "    if (grepl(\"_paired\", snakemake@wildcards$design)) {\n",
    "        design_df <- data.frame(colData(bsseq_stranded)[,c(\"tissue\", \"patient_number\")])\n",
    "        design_df$patient_number <- factor(design_df$patient_number)\n",
    "        design_df$tissue <- factor(design_df$tissue)\n",
    "        dml_fit = DMLfit.multiFactor(\n",
    "            bsseq_stranded,\n",
    "            design = design_df,\n",
    "            formula = ~ tissue + patient_number,\n",
    "            smoothing = TRUE\n",
    "        )\n",
    "        dml_res = DMLtest.multiFactor(\n",
    "            dml_fit,\n",
    "            term=\"tissue\"\n",
    "        )\n",
    "    } else {    \n",
    "        dml_res = DMLtest(\n",
    "          bsseq_stranded,\n",
    "          group1 = which(grepl(\"tumoral\", pData(bsseq_stranded)$tissue)),\n",
    "          group2 = which(grepl(\"normal\", pData(bsseq_stranded)$tissue)), \n",
    "          # Was working but through error with new conda env\n",
    "          # ncores = parallel::detectCores(),\n",
    "          smoothing = TRUE\n",
    "        )\n",
    "    }\n",
    "    saveRDS(\n",
    "        object = dml_res, \n",
    "        file = snakemake@log$rds\n",
    "    )\n",
    "}\n",
    "\n",
    "if (grepl(\"_paired\", snakemake@wildcards$design)) {\n",
    "    # Delta threshold has to be set to 0 for general model testing\n",
    "    delta_threshold <- 0\n",
    "} else {\n",
    "    delta_threshold <- 0.1\n",
    "}"
   ]
  },
  {
   "cell_type": "code",
   "execution_count": 16,
   "id": "4bdbb8e2-4d81-4268-8445-38da085c19f3",
   "metadata": {},
   "outputs": [
    {
     "data": {
      "text/html": [
       "<style>\n",
       ".list-inline {list-style: none; margin:0; padding: 0}\n",
       ".list-inline>li {display: inline-block}\n",
       ".list-inline>li:not(:last-child)::after {content: \"\\00b7\"; padding: 0 .5ex}\n",
       "</style>\n",
       "<ol class=list-inline><li>1624667</li><li>12</li></ol>\n"
      ],
      "text/latex": [
       "\\begin{enumerate*}\n",
       "\\item 1624667\n",
       "\\item 12\n",
       "\\end{enumerate*}\n"
      ],
      "text/markdown": [
       "1. 1624667\n",
       "2. 12\n",
       "\n",
       "\n"
      ],
      "text/plain": [
       "[1] 1624667      12"
      ]
     },
     "metadata": {},
     "output_type": "display_data"
    }
   ],
   "source": [
    "dml_signif_res = callDML(\n",
    "    dml_res,\n",
    "    delta = delta_threshold,\n",
    "    p.threshold = 0.001\n",
    ")\n",
    "dim(dml_signif_res)"
   ]
  },
  {
   "cell_type": "code",
   "execution_count": 17,
   "id": "62406ab6-1206-46e2-86e1-22da7bf28f26",
   "metadata": {},
   "outputs": [
    {
     "data": {
      "text/html": [
       "<style>\n",
       ".list-inline {list-style: none; margin:0; padding: 0}\n",
       ".list-inline>li {display: inline-block}\n",
       ".list-inline>li:not(:last-child)::after {content: \"\\00b7\"; padding: 0 .5ex}\n",
       "</style>\n",
       "<ol class=list-inline><li>226776</li><li>9</li></ol>\n"
      ],
      "text/latex": [
       "\\begin{enumerate*}\n",
       "\\item 226776\n",
       "\\item 9\n",
       "\\end{enumerate*}\n"
      ],
      "text/markdown": [
       "1. 226776\n",
       "2. 9\n",
       "\n",
       "\n"
      ],
      "text/plain": [
       "[1] 226776      9"
      ]
     },
     "metadata": {},
     "output_type": "display_data"
    }
   ],
   "source": [
    "dmr_signif_res = callDMR(\n",
    "    dml_res,\n",
    "    delta = delta_threshold,\n",
    "    p.threshold = 0.05\n",
    ")\n",
    "dim(dmr_signif_res)"
   ]
  },
  {
   "cell_type": "markdown",
   "id": "7ea9706f-6e17-4290-9f12-58a2d6b50377",
   "metadata": {
    "slideshow": {
     "slide_type": "subslide"
    },
    "tags": []
   },
   "source": [
    "## Annotate differential regions"
   ]
  },
  {
   "cell_type": "code",
   "execution_count": 18,
   "id": "d3108881-9800-407c-9fbd-a77d98cdac81",
   "metadata": {},
   "outputs": [],
   "source": [
    "# # txdb <- TxDb.Hsapiens.UCSC.hg19.knownGene\n",
    "# peakAnno <- annotatePeak(\n",
    "#     dml_res[1:4,], \n",
    "#     tssRegion = c(-3000, 3000),\n",
    "#     TxDb = TxDb.Hsapiens.UCSC.hg19.knownGene,\n",
    "#     annoDb = \"org.Hs.eg.db\"\n",
    "# )\n",
    "# peakAnno"
   ]
  },
  {
   "cell_type": "code",
   "execution_count": 19,
   "id": "12ec0d97-235d-4a6c-81fd-86f06c8819db",
   "metadata": {},
   "outputs": [
    {
     "data": {
      "text/plain": [
       "TxDb object:\n",
       "# Db type: TxDb\n",
       "# Supporting package: GenomicFeatures\n",
       "# Data source: UCSC\n",
       "# Genome: hg19\n",
       "# Organism: Homo sapiens\n",
       "# Taxonomy ID: 9606\n",
       "# UCSC Table: knownGene\n",
       "# Resource URL: http://genome.ucsc.edu/\n",
       "# Type of Gene ID: Entrez Gene ID\n",
       "# Full dataset: yes\n",
       "# miRBase build ID: GRCh37\n",
       "# transcript_nrow: 82960\n",
       "# exon_nrow: 289969\n",
       "# cds_nrow: 237533\n",
       "# Db created by: GenomicFeatures package from Bioconductor\n",
       "# Creation time: 2015-10-07 18:11:28 +0000 (Wed, 07 Oct 2015)\n",
       "# GenomicFeatures version at creation time: 1.21.30\n",
       "# RSQLite version at creation time: 1.0.0\n",
       "# DBSCHEMAVERSION: 1.1"
      ]
     },
     "metadata": {},
     "output_type": "display_data"
    }
   ],
   "source": [
    "TxDb.Hsapiens.UCSC.hg19.knownGene"
   ]
  },
  {
   "cell_type": "code",
   "execution_count": 20,
   "id": "1561fe22-2b01-45fd-bb26-f895bb14fc49",
   "metadata": {},
   "outputs": [
    {
     "name": "stderr",
     "output_type": "stream",
     "text": [
      "  403 genes were dropped because they have exons located on both strands\n",
      "  of the same reference sequence or on more than one reference sequence,\n",
      "  so cannot be represented by a single genomic range.\n",
      "  Use 'single.strand.genes.only=FALSE' to get all the genes in a\n",
      "  GRangesList object, or use suppressMessages() to suppress this message.\n",
      "\n"
     ]
    },
    {
     "data": {
      "text/plain": [
       "GRanges object with 23056 ranges and 0 metadata columns:\n",
       "        seqnames              ranges strand\n",
       "           <Rle>           <IRanges>  <Rle>\n",
       "      1    chr19   58858172-58874214      -\n",
       "     10     chr8   18248755-18258723      +\n",
       "    100    chr20   43248163-43280376      -\n",
       "   1000    chr18   25530930-25757445      -\n",
       "  10000     chr1 243651535-244006886      -\n",
       "    ...      ...                 ...    ...\n",
       "   9991     chr9 114979995-115095944      -\n",
       "   9992    chr21   35736323-35743440      +\n",
       "   9993    chr22   19023795-19109967      -\n",
       "   9994     chr6   90539619-90584155      +\n",
       "   9997    chr22   50961997-50964905      -\n",
       "  -------\n",
       "  seqinfo: 93 sequences (1 circular) from hg19 genome"
      ]
     },
     "metadata": {},
     "output_type": "display_data"
    }
   ],
   "source": [
    "# Annotate DMR\n",
    "annoData <- toGRanges(\n",
    "    TxDb.Hsapiens.UCSC.hg19.knownGene,\n",
    "    feature = \"gene\"\n",
    ")\n",
    "annoData"
   ]
  },
  {
   "cell_type": "code",
   "execution_count": 21,
   "id": "4b4d6910-dbf6-4526-9beb-ab75cafae4c7",
   "metadata": {},
   "outputs": [],
   "source": [
    "dmr_signif_gr <- GRanges(\n",
    "    seqnames = dmr_signif_res$chr,\n",
    "    ranges = IRanges(\n",
    "        start = dmr_signif_res$start,\n",
    "        end = dmr_signif_res$end\n",
    "    ),\n",
    "    mcols = dmr_signif_res[,!colnames(dmr_signif_res) %in% c(\"chr\", \"start\", \"end\")]\n",
    ")"
   ]
  },
  {
   "cell_type": "code",
   "execution_count": 22,
   "id": "be899657-25b0-46ca-80f4-066d1ee17719",
   "metadata": {},
   "outputs": [
    {
     "name": "stderr",
     "output_type": "stream",
     "text": [
      "Warning message in (function (seqlevels, genome, new_style) :\n",
      "\"cannot switch some hg19's seqlevels from UCSC to NCBI style\"\n"
     ]
    },
    {
     "data": {
      "text/plain": [
       "GRanges object with 227337 ranges and 15 metadata columns:\n",
       "                    seqnames              ranges strand | mcols.length\n",
       "                       <Rle>           <IRanges>  <Rle> |    <numeric>\n",
       "      X000001.64118       17   80038106-80054660      * |        16555\n",
       "      X000002.10265       16   54965817-54973131      * |         7315\n",
       "       X000003.6656       13 112719943-112723820      * |         3878\n",
       "     X000004.389813        9 139738642-139741910      * |         3269\n",
       "  X000005.100423031       19     2251168-2254192      * |         3025\n",
       "                ...      ...                 ...    ... .          ...\n",
       "     X226772.139189        X   50331974-50332748      * |          775\n",
       "       X226773.4087       18   45212621-45212903      * |          283\n",
       "     X226774.286514        X   25603442-25604069      * |          628\n",
       "      X226775.90316        X   89456893-89457268      * |          376\n",
       "       X226776.8660       13 110569391-110570036      * |          646\n",
       "                    mcols.nCG mcols.meanMethy1 mcols.meanMethy2\n",
       "                    <numeric>        <numeric>        <numeric>\n",
       "      X000001.64118      1552         0.553428         0.872262\n",
       "      X000002.10265       888         0.581538         0.165015\n",
       "       X000003.6656       843         0.394039         0.119327\n",
       "     X000004.389813       860         0.481439         0.225000\n",
       "  X000005.100423031       585         0.539000         0.209775\n",
       "                ...       ...              ...              ...\n",
       "     X226772.139189         4         0.687270         0.646347\n",
       "       X226773.4087         4         0.786184         0.829037\n",
       "     X226774.286514         5         0.654171         0.642829\n",
       "      X226775.90316         4         0.649962         0.608696\n",
       "       X226776.8660         4         0.558546         0.472953\n",
       "                    mcols.diff.Methy mcols.areaStat        peak     feature\n",
       "                           <numeric>      <numeric> <character> <character>\n",
       "      X000001.64118        -0.318834      -20230.37      000001       64118\n",
       "      X000002.10265         0.416522       13084.87      000002       10265\n",
       "       X000003.6656         0.274712       10735.75      000003        6656\n",
       "     X000004.389813         0.256438       10415.42      000004      389813\n",
       "  X000005.100423031         0.329226        9153.73      000005   100423031\n",
       "                ...              ...            ...         ...         ...\n",
       "     X226772.139189        0.0409229     0.04551487      226772      139189\n",
       "       X226773.4087       -0.0428533    -0.02386039      226773        4087\n",
       "     X226774.286514        0.0113413    -0.01800420      226774      286514\n",
       "      X226775.90316        0.0412660     0.00632829      226775       90316\n",
       "       X226776.8660        0.0855929    -0.00183250      226776        8660\n",
       "                    start_position end_position feature_strand  insideFeature\n",
       "                         <integer>    <integer>    <character>    <character>\n",
       "      X000001.64118       80015748     80023697              -       upstream\n",
       "      X000002.10265       54965111     54968395              +     overlapEnd\n",
       "       X000003.6656      112721913    112726020              +   overlapStart\n",
       "     X000004.389813      139738867    139741797              + includeFeature\n",
       "  X000005.100423031        2250638      2250717              +     downstream\n",
       "                ...            ...          ...            ...            ...\n",
       "     X226772.139189       50111879     50213721              -       upstream\n",
       "       X226773.4087       45359466     45457517              -     downstream\n",
       "     X226774.286514       26156460     26158853              +       upstream\n",
       "      X226775.90316       89176940     89177882              +     downstream\n",
       "       X226776.8660      110406184    110438914              -       upstream\n",
       "                    distancetoFeature shortestDistance fromOverlappingOrNearest\n",
       "                            <numeric>        <integer>              <character>\n",
       "      X000001.64118            -14409            14409          NearestLocation\n",
       "      X000002.10265               706              706          NearestLocation\n",
       "       X000003.6656             -1970             1907          NearestLocation\n",
       "     X000004.389813              -225              113          NearestLocation\n",
       "  X000005.100423031               530              451          NearestLocation\n",
       "                ...               ...              ...                      ...\n",
       "     X226772.139189           -118253           118253          NearestLocation\n",
       "       X226773.4087            244896           146563          NearestLocation\n",
       "     X226774.286514           -553018           552391          NearestLocation\n",
       "      X226775.90316            279953           279011          NearestLocation\n",
       "       X226776.8660           -130477           130477          NearestLocation\n",
       "  -------\n",
       "  seqinfo: 24 sequences from an unspecified genome; no seqlengths"
      ]
     },
     "metadata": {},
     "output_type": "display_data"
    }
   ],
   "source": [
    "dmr_signif_annot_gr <- annotatePeakInBatch(\n",
    "    dmr_signif_gr,\n",
    "    AnnotationData = annoData\n",
    ")\n",
    "dmr_signif_annot_gr"
   ]
  },
  {
   "cell_type": "code",
   "execution_count": 23,
   "id": "3a94a321-2b54-4fa0-915a-6a2c75f0f36c",
   "metadata": {},
   "outputs": [
    {
     "data": {
      "text/plain": [
       "GRanges object with 227337 ranges and 16 metadata columns:\n",
       "                    seqnames              ranges strand | mcols.length\n",
       "                       <Rle>           <IRanges>  <Rle> |    <numeric>\n",
       "      X000001.64118       17   80038106-80054660      * |        16555\n",
       "      X000002.10265       16   54965817-54973131      * |         7315\n",
       "       X000003.6656       13 112719943-112723820      * |         3878\n",
       "     X000004.389813        9 139738642-139741910      * |         3269\n",
       "  X000005.100423031       19     2251168-2254192      * |         3025\n",
       "                ...      ...                 ...    ... .          ...\n",
       "     X226772.139189        X   50331974-50332748      * |          775\n",
       "       X226773.4087       18   45212621-45212903      * |          283\n",
       "     X226774.286514        X   25603442-25604069      * |          628\n",
       "      X226775.90316        X   89456893-89457268      * |          376\n",
       "       X226776.8660       13 110569391-110570036      * |          646\n",
       "                    mcols.nCG mcols.meanMethy1 mcols.meanMethy2\n",
       "                    <numeric>        <numeric>        <numeric>\n",
       "      X000001.64118      1552         0.553428         0.872262\n",
       "      X000002.10265       888         0.581538         0.165015\n",
       "       X000003.6656       843         0.394039         0.119327\n",
       "     X000004.389813       860         0.481439         0.225000\n",
       "  X000005.100423031       585         0.539000         0.209775\n",
       "                ...       ...              ...              ...\n",
       "     X226772.139189         4         0.687270         0.646347\n",
       "       X226773.4087         4         0.786184         0.829037\n",
       "     X226774.286514         5         0.654171         0.642829\n",
       "      X226775.90316         4         0.649962         0.608696\n",
       "       X226776.8660         4         0.558546         0.472953\n",
       "                    mcols.diff.Methy mcols.areaStat        peak     feature\n",
       "                           <numeric>      <numeric> <character> <character>\n",
       "      X000001.64118        -0.318834      -20230.37      000001       64118\n",
       "      X000002.10265         0.416522       13084.87      000002       10265\n",
       "       X000003.6656         0.274712       10735.75      000003        6656\n",
       "     X000004.389813         0.256438       10415.42      000004      389813\n",
       "  X000005.100423031         0.329226        9153.73      000005   100423031\n",
       "                ...              ...            ...         ...         ...\n",
       "     X226772.139189        0.0409229     0.04551487      226772      139189\n",
       "       X226773.4087       -0.0428533    -0.02386039      226773        4087\n",
       "     X226774.286514        0.0113413    -0.01800420      226774      286514\n",
       "      X226775.90316        0.0412660     0.00632829      226775       90316\n",
       "       X226776.8660        0.0855929    -0.00183250      226776        8660\n",
       "                    start_position end_position feature_strand  insideFeature\n",
       "                         <integer>    <integer>    <character>    <character>\n",
       "      X000001.64118       80015748     80023697              -       upstream\n",
       "      X000002.10265       54965111     54968395              +     overlapEnd\n",
       "       X000003.6656      112721913    112726020              +   overlapStart\n",
       "     X000004.389813      139738867    139741797              + includeFeature\n",
       "  X000005.100423031        2250638      2250717              +     downstream\n",
       "                ...            ...          ...            ...            ...\n",
       "     X226772.139189       50111879     50213721              -       upstream\n",
       "       X226773.4087       45359466     45457517              -     downstream\n",
       "     X226774.286514       26156460     26158853              +       upstream\n",
       "      X226775.90316       89176940     89177882              +     downstream\n",
       "       X226776.8660      110406184    110438914              -       upstream\n",
       "                    distancetoFeature shortestDistance fromOverlappingOrNearest\n",
       "                            <numeric>        <integer>              <character>\n",
       "      X000001.64118            -14409            14409          NearestLocation\n",
       "      X000002.10265               706              706          NearestLocation\n",
       "       X000003.6656             -1970             1907          NearestLocation\n",
       "     X000004.389813              -225              113          NearestLocation\n",
       "  X000005.100423031               530              451          NearestLocation\n",
       "                ...               ...              ...                      ...\n",
       "     X226772.139189           -118253           118253          NearestLocation\n",
       "       X226773.4087            244896           146563          NearestLocation\n",
       "     X226774.286514           -553018           552391          NearestLocation\n",
       "      X226775.90316            279953           279011          NearestLocation\n",
       "       X226776.8660           -130477           130477          NearestLocation\n",
       "                         symbol\n",
       "                    <character>\n",
       "      X000001.64118       DUS1L\n",
       "      X000002.10265        IRX5\n",
       "       X000003.6656        SOX1\n",
       "     X000004.389813        AJM1\n",
       "  X000005.100423031     MIR4321\n",
       "                ...         ...\n",
       "     X226772.139189        DGKK\n",
       "       X226773.4087       SMAD2\n",
       "     X226774.286514     MAGEB18\n",
       "      X226775.90316     TGIF2LX\n",
       "       X226776.8660        IRS2\n",
       "  -------\n",
       "  seqinfo: 24 sequences from an unspecified genome; no seqlengths"
      ]
     },
     "metadata": {},
     "output_type": "display_data"
    }
   ],
   "source": [
    "dmr_signif_annot_gr <- addGeneIDs(\n",
    "    dmr_signif_annot_gr,\n",
    "    orgAnn=\"org.Hs.eg.db\",\n",
    "    feature_id_type = \"entrez_id\",\n",
    "    IDs2Add=c(\"symbol\")\n",
    ")\n",
    "dmr_signif_annot_gr"
   ]
  },
  {
   "cell_type": "code",
   "execution_count": 24,
   "id": "2cb0509e-e191-4473-b6dd-390a538f776c",
   "metadata": {},
   "outputs": [
    {
     "data": {
      "text/html": [
       "<style>\n",
       ".list-inline {list-style: none; margin:0; padding: 0}\n",
       ".list-inline>li {display: inline-block}\n",
       ".list-inline>li:not(:last-child)::after {content: \"\\00b7\"; padding: 0 .5ex}\n",
       "</style>\n",
       "<ol class=list-inline><li>'region_length'</li><li>'region_nCG'</li><li>'region_meanMethy1'</li><li>'region_meanMethy2'</li><li>'region_diff.Methy'</li><li>'region_areaStat'</li><li>'gene_start'</li><li>'gene_end'</li><li>'gene_strand'</li><li>'region_relative_to_gene'</li><li>'symbol'</li></ol>\n"
      ],
      "text/latex": [
       "\\begin{enumerate*}\n",
       "\\item 'region\\_length'\n",
       "\\item 'region\\_nCG'\n",
       "\\item 'region\\_meanMethy1'\n",
       "\\item 'region\\_meanMethy2'\n",
       "\\item 'region\\_diff.Methy'\n",
       "\\item 'region\\_areaStat'\n",
       "\\item 'gene\\_start'\n",
       "\\item 'gene\\_end'\n",
       "\\item 'gene\\_strand'\n",
       "\\item 'region\\_relative\\_to\\_gene'\n",
       "\\item 'symbol'\n",
       "\\end{enumerate*}\n"
      ],
      "text/markdown": [
       "1. 'region_length'\n",
       "2. 'region_nCG'\n",
       "3. 'region_meanMethy1'\n",
       "4. 'region_meanMethy2'\n",
       "5. 'region_diff.Methy'\n",
       "6. 'region_areaStat'\n",
       "7. 'gene_start'\n",
       "8. 'gene_end'\n",
       "9. 'gene_strand'\n",
       "10. 'region_relative_to_gene'\n",
       "11. 'symbol'\n",
       "\n",
       "\n"
      ],
      "text/plain": [
       " [1] \"region_length\"           \"region_nCG\"             \n",
       " [3] \"region_meanMethy1\"       \"region_meanMethy2\"      \n",
       " [5] \"region_diff.Methy\"       \"region_areaStat\"        \n",
       " [7] \"gene_start\"              \"gene_end\"               \n",
       " [9] \"gene_strand\"             \"region_relative_to_gene\"\n",
       "[11] \"symbol\"                 "
      ]
     },
     "metadata": {},
     "output_type": "display_data"
    }
   ],
   "source": [
    "mcols(dmr_signif_annot_gr)$peak <- NULL\n",
    "mcols(dmr_signif_annot_gr)$feature <- NULL\n",
    "mcols(dmr_signif_annot_gr)$distancetoFeature <- NULL\n",
    "mcols(dmr_signif_annot_gr)$shortestDistance <- NULL\n",
    "mcols(dmr_signif_annot_gr)$fromOverlappingOrNearest <- NULL\n",
    "\n",
    "colnames(mcols(dmr_signif_annot_gr)) <- sub(\n",
    "    \"mcols\\\\.\",\n",
    "    \"region_\",\n",
    "    colnames(mcols(dmr_signif_annot_gr))\n",
    ")\n",
    "\n",
    "colnames(mcols(dmr_signif_annot_gr)) <- sub(\n",
    "    \"start_position\",\n",
    "    \"gene_start\",\n",
    "    colnames(mcols(dmr_signif_annot_gr))\n",
    ")\n",
    "colnames(mcols(dmr_signif_annot_gr)) <- sub(\n",
    "    \"end_position\",\n",
    "    \"gene_end\",\n",
    "    colnames(mcols(dmr_signif_annot_gr))\n",
    ")\n",
    "colnames(mcols(dmr_signif_annot_gr)) <- sub(\n",
    "    \"feature_strand\",\n",
    "    \"gene_strand\",\n",
    "    colnames(mcols(dmr_signif_annot_gr))\n",
    ")\n",
    "colnames(mcols(dmr_signif_annot_gr)) <- sub(\n",
    "    \"insideFeature\",\n",
    "    \"region_relative_to_gene\",\n",
    "    colnames(mcols(dmr_signif_annot_gr))\n",
    ")\n",
    "colnames(mcols(dmr_signif_annot_gr)) "
   ]
  },
  {
   "cell_type": "code",
   "execution_count": 25,
   "id": "16c42c5c-590a-4afd-9f5c-7a3f9e58a004",
   "metadata": {},
   "outputs": [
    {
     "data": {
      "text/plain": [
       "GRanges object with 227337 ranges and 11 metadata columns:\n",
       "                    seqnames              ranges strand | region_length\n",
       "                       <Rle>           <IRanges>  <Rle> |     <numeric>\n",
       "      X000001.64118       17   80038106-80054660      * |         16555\n",
       "      X000002.10265       16   54965817-54973131      * |          7315\n",
       "       X000003.6656       13 112719943-112723820      * |          3878\n",
       "     X000004.389813        9 139738642-139741910      * |          3269\n",
       "  X000005.100423031       19     2251168-2254192      * |          3025\n",
       "                ...      ...                 ...    ... .           ...\n",
       "     X226772.139189        X   50331974-50332748      * |           775\n",
       "       X226773.4087       18   45212621-45212903      * |           283\n",
       "     X226774.286514        X   25603442-25604069      * |           628\n",
       "      X226775.90316        X   89456893-89457268      * |           376\n",
       "       X226776.8660       13 110569391-110570036      * |           646\n",
       "                    region_nCG region_meanMethy1 region_meanMethy2\n",
       "                     <numeric>         <numeric>         <numeric>\n",
       "      X000001.64118       1552          0.553428          0.872262\n",
       "      X000002.10265        888          0.581538          0.165015\n",
       "       X000003.6656        843          0.394039          0.119327\n",
       "     X000004.389813        860          0.481439          0.225000\n",
       "  X000005.100423031        585          0.539000          0.209775\n",
       "                ...        ...               ...               ...\n",
       "     X226772.139189          4          0.687270          0.646347\n",
       "       X226773.4087          4          0.786184          0.829037\n",
       "     X226774.286514          5          0.654171          0.642829\n",
       "      X226775.90316          4          0.649962          0.608696\n",
       "       X226776.8660          4          0.558546          0.472953\n",
       "                    region_diff.Methy region_areaStat gene_start  gene_end\n",
       "                            <numeric>       <numeric>  <integer> <integer>\n",
       "      X000001.64118         -0.318834       -20230.37   80015748  80023697\n",
       "      X000002.10265          0.416522        13084.87   54965111  54968395\n",
       "       X000003.6656          0.274712        10735.75  112721913 112726020\n",
       "     X000004.389813          0.256438        10415.42  139738867 139741797\n",
       "  X000005.100423031          0.329226         9153.73    2250638   2250717\n",
       "                ...               ...             ...        ...       ...\n",
       "     X226772.139189         0.0409229      0.04551487   50111879  50213721\n",
       "       X226773.4087        -0.0428533     -0.02386039   45359466  45457517\n",
       "     X226774.286514         0.0113413     -0.01800420   26156460  26158853\n",
       "      X226775.90316         0.0412660      0.00632829   89176940  89177882\n",
       "       X226776.8660         0.0855929     -0.00183250  110406184 110438914\n",
       "                    gene_strand region_relative_to_gene      symbol\n",
       "                    <character>             <character> <character>\n",
       "      X000001.64118           -                upstream       DUS1L\n",
       "      X000002.10265           +              overlapEnd        IRX5\n",
       "       X000003.6656           +            overlapStart        SOX1\n",
       "     X000004.389813           +          includeFeature        AJM1\n",
       "  X000005.100423031           +              downstream     MIR4321\n",
       "                ...         ...                     ...         ...\n",
       "     X226772.139189           -                upstream        DGKK\n",
       "       X226773.4087           -              downstream       SMAD2\n",
       "     X226774.286514           +                upstream     MAGEB18\n",
       "      X226775.90316           +              downstream     TGIF2LX\n",
       "       X226776.8660           -                upstream        IRS2\n",
       "  -------\n",
       "  seqinfo: 24 sequences from an unspecified genome; no seqlengths"
      ]
     },
     "metadata": {},
     "output_type": "display_data"
    }
   ],
   "source": [
    "dmr_signif_annot_gr"
   ]
  },
  {
   "cell_type": "code",
   "execution_count": 26,
   "id": "08a687ce-419d-4469-a863-52318165a521",
   "metadata": {},
   "outputs": [
    {
     "data": {
      "text/html": [
       "<table class=\"dataframe\">\n",
       "<caption>A data.frame: 6 × 12</caption>\n",
       "<thead>\n",
       "\t<tr><th></th><th scope=col>chr</th><th scope=col>pos</th><th scope=col>mu1</th><th scope=col>mu2</th><th scope=col>diff</th><th scope=col>diff.se</th><th scope=col>stat</th><th scope=col>phi1</th><th scope=col>phi2</th><th scope=col>pval</th><th scope=col>fdr</th><th scope=col>postprob.overThreshold</th></tr>\n",
       "\t<tr><th></th><th scope=col>&lt;chr&gt;</th><th scope=col>&lt;int&gt;</th><th scope=col>&lt;dbl&gt;</th><th scope=col>&lt;dbl&gt;</th><th scope=col>&lt;dbl&gt;</th><th scope=col>&lt;dbl&gt;</th><th scope=col>&lt;dbl&gt;</th><th scope=col>&lt;dbl&gt;</th><th scope=col>&lt;dbl&gt;</th><th scope=col>&lt;dbl&gt;</th><th scope=col>&lt;dbl&gt;</th><th scope=col>&lt;dbl&gt;</th></tr>\n",
       "</thead>\n",
       "<tbody>\n",
       "\t<tr><th scope=row>8539</th><td>1</td><td>846085</td><td>0.6589844</td><td>0.3553443</td><td>0.3036400</td><td>0.02448246</td><td>12.40235</td><td>0.21000766</td><td>0.31703044</td><td>2.537757e-35</td><td>5.479918e-33</td><td>1</td></tr>\n",
       "\t<tr><th scope=row>8557</th><td>1</td><td>846353</td><td>0.7777273</td><td>0.4344780</td><td>0.3432492</td><td>0.02472833</td><td>13.88081</td><td>0.06592711</td><td>0.07305760</td><td>8.280577e-44</td><td>2.815198e-41</td><td>1</td></tr>\n",
       "\t<tr><th scope=row>8558</th><td>1</td><td>846354</td><td>0.7777273</td><td>0.4344780</td><td>0.3432492</td><td>0.02698350</td><td>12.72071</td><td>0.10276038</td><td>0.09128615</td><td>4.537133e-37</td><td>1.076280e-34</td><td>1</td></tr>\n",
       "\t<tr><th scope=row>8559</th><td>1</td><td>846395</td><td>0.7766381</td><td>0.4229948</td><td>0.3536433</td><td>0.02377640</td><td>14.87371</td><td>0.07445022</td><td>0.06282702</td><td>4.882893e-50</td><td>2.287165e-47</td><td>1</td></tr>\n",
       "\t<tr><th scope=row>8560</th><td>1</td><td>846396</td><td>0.7766381</td><td>0.4229948</td><td>0.3536433</td><td>0.02871727</td><td>12.31465</td><td>0.07394468</td><td>0.05025859</td><td>7.553759e-35</td><td>1.589819e-32</td><td>1</td></tr>\n",
       "\t<tr><th scope=row>8561</th><td>1</td><td>846425</td><td>0.7871325</td><td>0.4239335</td><td>0.3631991</td><td>0.02585777</td><td>14.04603</td><td>0.12069416</td><td>0.06241339</td><td>8.147396e-45</td><td>2.918855e-42</td><td>1</td></tr>\n",
       "</tbody>\n",
       "</table>\n"
      ],
      "text/latex": [
       "A data.frame: 6 × 12\n",
       "\\begin{tabular}{r|llllllllllll}\n",
       "  & chr & pos & mu1 & mu2 & diff & diff.se & stat & phi1 & phi2 & pval & fdr & postprob.overThreshold\\\\\n",
       "  & <chr> & <int> & <dbl> & <dbl> & <dbl> & <dbl> & <dbl> & <dbl> & <dbl> & <dbl> & <dbl> & <dbl>\\\\\n",
       "\\hline\n",
       "\t8539 & 1 & 846085 & 0.6589844 & 0.3553443 & 0.3036400 & 0.02448246 & 12.40235 & 0.21000766 & 0.31703044 & 2.537757e-35 & 5.479918e-33 & 1\\\\\n",
       "\t8557 & 1 & 846353 & 0.7777273 & 0.4344780 & 0.3432492 & 0.02472833 & 13.88081 & 0.06592711 & 0.07305760 & 8.280577e-44 & 2.815198e-41 & 1\\\\\n",
       "\t8558 & 1 & 846354 & 0.7777273 & 0.4344780 & 0.3432492 & 0.02698350 & 12.72071 & 0.10276038 & 0.09128615 & 4.537133e-37 & 1.076280e-34 & 1\\\\\n",
       "\t8559 & 1 & 846395 & 0.7766381 & 0.4229948 & 0.3536433 & 0.02377640 & 14.87371 & 0.07445022 & 0.06282702 & 4.882893e-50 & 2.287165e-47 & 1\\\\\n",
       "\t8560 & 1 & 846396 & 0.7766381 & 0.4229948 & 0.3536433 & 0.02871727 & 12.31465 & 0.07394468 & 0.05025859 & 7.553759e-35 & 1.589819e-32 & 1\\\\\n",
       "\t8561 & 1 & 846425 & 0.7871325 & 0.4239335 & 0.3631991 & 0.02585777 & 14.04603 & 0.12069416 & 0.06241339 & 8.147396e-45 & 2.918855e-42 & 1\\\\\n",
       "\\end{tabular}\n"
      ],
      "text/markdown": [
       "\n",
       "A data.frame: 6 × 12\n",
       "\n",
       "| <!--/--> | chr &lt;chr&gt; | pos &lt;int&gt; | mu1 &lt;dbl&gt; | mu2 &lt;dbl&gt; | diff &lt;dbl&gt; | diff.se &lt;dbl&gt; | stat &lt;dbl&gt; | phi1 &lt;dbl&gt; | phi2 &lt;dbl&gt; | pval &lt;dbl&gt; | fdr &lt;dbl&gt; | postprob.overThreshold &lt;dbl&gt; |\n",
       "|---|---|---|---|---|---|---|---|---|---|---|---|---|\n",
       "| 8539 | 1 | 846085 | 0.6589844 | 0.3553443 | 0.3036400 | 0.02448246 | 12.40235 | 0.21000766 | 0.31703044 | 2.537757e-35 | 5.479918e-33 | 1 |\n",
       "| 8557 | 1 | 846353 | 0.7777273 | 0.4344780 | 0.3432492 | 0.02472833 | 13.88081 | 0.06592711 | 0.07305760 | 8.280577e-44 | 2.815198e-41 | 1 |\n",
       "| 8558 | 1 | 846354 | 0.7777273 | 0.4344780 | 0.3432492 | 0.02698350 | 12.72071 | 0.10276038 | 0.09128615 | 4.537133e-37 | 1.076280e-34 | 1 |\n",
       "| 8559 | 1 | 846395 | 0.7766381 | 0.4229948 | 0.3536433 | 0.02377640 | 14.87371 | 0.07445022 | 0.06282702 | 4.882893e-50 | 2.287165e-47 | 1 |\n",
       "| 8560 | 1 | 846396 | 0.7766381 | 0.4229948 | 0.3536433 | 0.02871727 | 12.31465 | 0.07394468 | 0.05025859 | 7.553759e-35 | 1.589819e-32 | 1 |\n",
       "| 8561 | 1 | 846425 | 0.7871325 | 0.4239335 | 0.3631991 | 0.02585777 | 14.04603 | 0.12069416 | 0.06241339 | 8.147396e-45 | 2.918855e-42 | 1 |\n",
       "\n"
      ],
      "text/plain": [
       "     chr pos    mu1       mu2       diff      diff.se    stat     phi1      \n",
       "8539 1   846085 0.6589844 0.3553443 0.3036400 0.02448246 12.40235 0.21000766\n",
       "8557 1   846353 0.7777273 0.4344780 0.3432492 0.02472833 13.88081 0.06592711\n",
       "8558 1   846354 0.7777273 0.4344780 0.3432492 0.02698350 12.72071 0.10276038\n",
       "8559 1   846395 0.7766381 0.4229948 0.3536433 0.02377640 14.87371 0.07445022\n",
       "8560 1   846396 0.7766381 0.4229948 0.3536433 0.02871727 12.31465 0.07394468\n",
       "8561 1   846425 0.7871325 0.4239335 0.3631991 0.02585777 14.04603 0.12069416\n",
       "     phi2       pval         fdr          postprob.overThreshold\n",
       "8539 0.31703044 2.537757e-35 5.479918e-33 1                     \n",
       "8557 0.07305760 8.280577e-44 2.815198e-41 1                     \n",
       "8558 0.09128615 4.537133e-37 1.076280e-34 1                     \n",
       "8559 0.06282702 4.882893e-50 2.287165e-47 1                     \n",
       "8560 0.05025859 7.553759e-35 1.589819e-32 1                     \n",
       "8561 0.06241339 8.147396e-45 2.918855e-42 1                     "
      ]
     },
     "metadata": {},
     "output_type": "display_data"
    }
   ],
   "source": [
    "head(dml_signif_res)"
   ]
  },
  {
   "cell_type": "code",
   "execution_count": 27,
   "id": "fe8a100f-c21f-4358-b26c-c80ad6885c21",
   "metadata": {},
   "outputs": [],
   "source": [
    "if (grepl(\"_unpaired\", snakemake@wildcards$design)) {\n",
    "    # findOVerlap between dmr and dml here to extract top discriminating CG\n",
    "    dml_signif_gr <- GRanges(\n",
    "        seqnames = dml_signif_res$chr,\n",
    "        ranges = IRanges(\n",
    "            start = dml_signif_res$pos,\n",
    "            end = dml_signif_res$pos + 1\n",
    "        ),\n",
    "        mcols = dml_signif_res[,!colnames(dml_signif_res) %in% c(\"chr\", \"start\", \"end\")]\n",
    "    )\n",
    "\n",
    "    # Find overlaps between gr1 and gr2\n",
    "    overlaps <- findOverlaps(\n",
    "        dml_signif_gr,\n",
    "        dmr_signif_annot_gr\n",
    "    )\n",
    "    \n",
    "    # Get the indices of overlapping regions in gr1 and gr2\n",
    "    overlaps_in_dml_signif_gr <- queryHits(overlaps)\n",
    "    overlaps_in_dmr_signif_annot_gr <- subjectHits(overlaps)\n",
    "    \n",
    "    # Extract the overlapping regions from gr1 and gr2\n",
    "    overlapping_regions_in_dml_signif_gr <- dml_signif_gr[overlaps_in_dml_signif_gr]\n",
    "    overlapping_regions_in_dmr_signif_annot_gr <- dmr_signif_annot_gr[overlaps_in_dmr_signif_annot_gr]\n",
    "    \n",
    "}"
   ]
  },
  {
   "cell_type": "code",
   "execution_count": 28,
   "id": "3a3afe01-5c72-44f7-88bd-a92baa6d6e3c",
   "metadata": {},
   "outputs": [
    {
     "data": {
      "text/html": [
       "<style>\n",
       ".list-inline {list-style: none; margin:0; padding: 0}\n",
       ".list-inline>li {display: inline-block}\n",
       ".list-inline>li:not(:last-child)::after {content: \"\\00b7\"; padding: 0 .5ex}\n",
       "</style>\n",
       "<ol class=list-inline><li>'cg_chr'</li><li>'cg_pos'</li><li>'cg_mu1'</li><li>'cg_mu2'</li><li>'cg_diff'</li><li>'cg_pval'</li><li>'cg_fdr'</li></ol>\n"
      ],
      "text/latex": [
       "\\begin{enumerate*}\n",
       "\\item 'cg\\_chr'\n",
       "\\item 'cg\\_pos'\n",
       "\\item 'cg\\_mu1'\n",
       "\\item 'cg\\_mu2'\n",
       "\\item 'cg\\_diff'\n",
       "\\item 'cg\\_pval'\n",
       "\\item 'cg\\_fdr'\n",
       "\\end{enumerate*}\n"
      ],
      "text/markdown": [
       "1. 'cg_chr'\n",
       "2. 'cg_pos'\n",
       "3. 'cg_mu1'\n",
       "4. 'cg_mu2'\n",
       "5. 'cg_diff'\n",
       "6. 'cg_pval'\n",
       "7. 'cg_fdr'\n",
       "\n",
       "\n"
      ],
      "text/plain": [
       "[1] \"cg_chr\"  \"cg_pos\"  \"cg_mu1\"  \"cg_mu2\"  \"cg_diff\" \"cg_pval\" \"cg_fdr\" "
      ]
     },
     "metadata": {},
     "output_type": "display_data"
    }
   ],
   "source": [
    "if (grepl(\"_unpaired\", snakemake@wildcards$design)) {\n",
    "    overlapping_regions_in_dml_signif_df <- data.frame(overlapping_regions_in_dml_signif_gr)\n",
    "    colnames(overlapping_regions_in_dml_signif_df) <- sub(\n",
    "        \"mcols.\",\n",
    "        \"cg_\",\n",
    "        colnames(overlapping_regions_in_dml_signif_df)\n",
    "    )\n",
    "    colnames(overlapping_regions_in_dml_signif_df) <- sub(\n",
    "        \"seqnames\",\n",
    "        \"cg_chr\",\n",
    "        colnames(overlapping_regions_in_dml_signif_df)\n",
    "    )\n",
    "    overlapping_regions_in_dml_signif_df$start <- NULL\n",
    "    overlapping_regions_in_dml_signif_df$end <- NULL\n",
    "    overlapping_regions_in_dml_signif_df$strand <- NULL\n",
    "    overlapping_regions_in_dml_signif_df$width <- NULL\n",
    "    overlapping_regions_in_dml_signif_df$cg_diff.se <- NULL\n",
    "    overlapping_regions_in_dml_signif_df$cg_stat <- NULL\n",
    "    overlapping_regions_in_dml_signif_df$cg_phi1 <- NULL\n",
    "    overlapping_regions_in_dml_signif_df$cg_phi2 <- NULL\n",
    "    overlapping_regions_in_dml_signif_df$cg_postprob.overThreshold <- NULL\n",
    "    colnames(overlapping_regions_in_dml_signif_df)\n",
    "}"
   ]
  },
  {
   "cell_type": "code",
   "execution_count": 29,
   "id": "b2236196-49eb-444d-93b5-efd7a226403a",
   "metadata": {},
   "outputs": [
    {
     "data": {
      "text/html": [
       "<table class=\"dataframe\">\n",
       "<caption>A data.frame: 6 × 23</caption>\n",
       "<thead>\n",
       "\t<tr><th></th><th scope=col>seqnames</th><th scope=col>start</th><th scope=col>end</th><th scope=col>width</th><th scope=col>strand</th><th scope=col>region_length</th><th scope=col>region_nCG</th><th scope=col>region_meanMethy1</th><th scope=col>region_meanMethy2</th><th scope=col>region_diff.Methy</th><th scope=col>⋯</th><th scope=col>gene_strand</th><th scope=col>region_relative_to_gene</th><th scope=col>symbol</th><th scope=col>cg_chr</th><th scope=col>cg_pos</th><th scope=col>cg_mu1</th><th scope=col>cg_mu2</th><th scope=col>cg_diff</th><th scope=col>cg_pval</th><th scope=col>cg_fdr</th></tr>\n",
       "\t<tr><th></th><th scope=col>&lt;fct&gt;</th><th scope=col>&lt;int&gt;</th><th scope=col>&lt;int&gt;</th><th scope=col>&lt;int&gt;</th><th scope=col>&lt;fct&gt;</th><th scope=col>&lt;dbl&gt;</th><th scope=col>&lt;dbl&gt;</th><th scope=col>&lt;dbl&gt;</th><th scope=col>&lt;dbl&gt;</th><th scope=col>&lt;dbl&gt;</th><th scope=col>⋯</th><th scope=col>&lt;chr&gt;</th><th scope=col>&lt;chr&gt;</th><th scope=col>&lt;chr&gt;</th><th scope=col>&lt;fct&gt;</th><th scope=col>&lt;int&gt;</th><th scope=col>&lt;dbl&gt;</th><th scope=col>&lt;dbl&gt;</th><th scope=col>&lt;dbl&gt;</th><th scope=col>&lt;dbl&gt;</th><th scope=col>&lt;dbl&gt;</th></tr>\n",
       "</thead>\n",
       "<tbody>\n",
       "\t<tr><th scope=row>283417</th><td>2 </td><td>137576022</td><td>137576685</td><td> 664</td><td>*</td><td> 664</td><td>10</td><td>0.4773263</td><td>0.8835023</td><td>-0.4061760</td><td>⋯</td><td>+</td><td>inside  </td><td>THSD7B</td><td>2 </td><td>137576022</td><td>0.2487971</td><td>0.9770900</td><td>-0.7282929</td><td>5.062759e-21</td><td>4.833831e-19</td></tr>\n",
       "\t<tr><th scope=row>478501</th><td>2 </td><td>137576022</td><td>137576685</td><td> 664</td><td>*</td><td> 664</td><td>10</td><td>0.4773263</td><td>0.8835023</td><td>-0.4061760</td><td>⋯</td><td>+</td><td>inside  </td><td>THSD7B</td><td>2 </td><td>137576023</td><td>0.2487971</td><td>0.9770900</td><td>-0.7282929</td><td>1.692727e-13</td><td>9.339605e-12</td></tr>\n",
       "\t<tr><th scope=row>294579</th><td>10</td><td> 96613370</td><td> 96615354</td><td>1985</td><td>*</td><td>1985</td><td>14</td><td>0.5692894</td><td>0.8836058</td><td>-0.3143163</td><td>⋯</td><td>+</td><td>upstream</td><td>CYP2C9</td><td>10</td><td> 96615354</td><td>0.1947525</td><td>0.9026179</td><td>-0.7078653</td><td>1.328085e-20</td><td>1.235156e-18</td></tr>\n",
       "\t<tr><th scope=row>363051</th><td>10</td><td> 96613370</td><td> 96615354</td><td>1985</td><td>*</td><td>1985</td><td>14</td><td>0.5692894</td><td>0.8836058</td><td>-0.3143163</td><td>⋯</td><td>+</td><td>upstream</td><td>CYP2C9</td><td>10</td><td> 96615353</td><td>0.1947525</td><td>0.9026179</td><td>-0.7078653</td><td>1.730255e-17</td><td>1.309369e-15</td></tr>\n",
       "\t<tr><th scope=row>413177</th><td>3 </td><td>192875686</td><td>192876063</td><td> 378</td><td>*</td><td> 378</td><td> 5</td><td>0.3511177</td><td>0.8266226</td><td>-0.4755049</td><td>⋯</td><td>+</td><td>upstream</td><td>PLAAT1</td><td>3 </td><td>192876062</td><td>0.1816746</td><td>0.8888607</td><td>-0.7071861</td><td>1.279915e-15</td><td>8.445845e-14</td></tr>\n",
       "\t<tr><th scope=row>815281</th><td>3 </td><td>192875686</td><td>192876063</td><td> 378</td><td>*</td><td> 378</td><td> 5</td><td>0.3511177</td><td>0.8266226</td><td>-0.4755049</td><td>⋯</td><td>+</td><td>upstream</td><td>PLAAT1</td><td>3 </td><td>192876063</td><td>0.1816746</td><td>0.8888607</td><td>-0.7071861</td><td>6.989164e-08</td><td>1.818679e-06</td></tr>\n",
       "</tbody>\n",
       "</table>\n"
      ],
      "text/latex": [
       "A data.frame: 6 × 23\n",
       "\\begin{tabular}{r|lllllllllllllllllllll}\n",
       "  & seqnames & start & end & width & strand & region\\_length & region\\_nCG & region\\_meanMethy1 & region\\_meanMethy2 & region\\_diff.Methy & ⋯ & gene\\_strand & region\\_relative\\_to\\_gene & symbol & cg\\_chr & cg\\_pos & cg\\_mu1 & cg\\_mu2 & cg\\_diff & cg\\_pval & cg\\_fdr\\\\\n",
       "  & <fct> & <int> & <int> & <int> & <fct> & <dbl> & <dbl> & <dbl> & <dbl> & <dbl> & ⋯ & <chr> & <chr> & <chr> & <fct> & <int> & <dbl> & <dbl> & <dbl> & <dbl> & <dbl>\\\\\n",
       "\\hline\n",
       "\t283417 & 2  & 137576022 & 137576685 &  664 & * &  664 & 10 & 0.4773263 & 0.8835023 & -0.4061760 & ⋯ & + & inside   & THSD7B & 2  & 137576022 & 0.2487971 & 0.9770900 & -0.7282929 & 5.062759e-21 & 4.833831e-19\\\\\n",
       "\t478501 & 2  & 137576022 & 137576685 &  664 & * &  664 & 10 & 0.4773263 & 0.8835023 & -0.4061760 & ⋯ & + & inside   & THSD7B & 2  & 137576023 & 0.2487971 & 0.9770900 & -0.7282929 & 1.692727e-13 & 9.339605e-12\\\\\n",
       "\t294579 & 10 &  96613370 &  96615354 & 1985 & * & 1985 & 14 & 0.5692894 & 0.8836058 & -0.3143163 & ⋯ & + & upstream & CYP2C9 & 10 &  96615354 & 0.1947525 & 0.9026179 & -0.7078653 & 1.328085e-20 & 1.235156e-18\\\\\n",
       "\t363051 & 10 &  96613370 &  96615354 & 1985 & * & 1985 & 14 & 0.5692894 & 0.8836058 & -0.3143163 & ⋯ & + & upstream & CYP2C9 & 10 &  96615353 & 0.1947525 & 0.9026179 & -0.7078653 & 1.730255e-17 & 1.309369e-15\\\\\n",
       "\t413177 & 3  & 192875686 & 192876063 &  378 & * &  378 &  5 & 0.3511177 & 0.8266226 & -0.4755049 & ⋯ & + & upstream & PLAAT1 & 3  & 192876062 & 0.1816746 & 0.8888607 & -0.7071861 & 1.279915e-15 & 8.445845e-14\\\\\n",
       "\t815281 & 3  & 192875686 & 192876063 &  378 & * &  378 &  5 & 0.3511177 & 0.8266226 & -0.4755049 & ⋯ & + & upstream & PLAAT1 & 3  & 192876063 & 0.1816746 & 0.8888607 & -0.7071861 & 6.989164e-08 & 1.818679e-06\\\\\n",
       "\\end{tabular}\n"
      ],
      "text/markdown": [
       "\n",
       "A data.frame: 6 × 23\n",
       "\n",
       "| <!--/--> | seqnames &lt;fct&gt; | start &lt;int&gt; | end &lt;int&gt; | width &lt;int&gt; | strand &lt;fct&gt; | region_length &lt;dbl&gt; | region_nCG &lt;dbl&gt; | region_meanMethy1 &lt;dbl&gt; | region_meanMethy2 &lt;dbl&gt; | region_diff.Methy &lt;dbl&gt; | ⋯ ⋯ | gene_strand &lt;chr&gt; | region_relative_to_gene &lt;chr&gt; | symbol &lt;chr&gt; | cg_chr &lt;fct&gt; | cg_pos &lt;int&gt; | cg_mu1 &lt;dbl&gt; | cg_mu2 &lt;dbl&gt; | cg_diff &lt;dbl&gt; | cg_pval &lt;dbl&gt; | cg_fdr &lt;dbl&gt; |\n",
       "|---|---|---|---|---|---|---|---|---|---|---|---|---|---|---|---|---|---|---|---|---|---|\n",
       "| 283417 | 2  | 137576022 | 137576685 |  664 | * |  664 | 10 | 0.4773263 | 0.8835023 | -0.4061760 | ⋯ | + | inside   | THSD7B | 2  | 137576022 | 0.2487971 | 0.9770900 | -0.7282929 | 5.062759e-21 | 4.833831e-19 |\n",
       "| 478501 | 2  | 137576022 | 137576685 |  664 | * |  664 | 10 | 0.4773263 | 0.8835023 | -0.4061760 | ⋯ | + | inside   | THSD7B | 2  | 137576023 | 0.2487971 | 0.9770900 | -0.7282929 | 1.692727e-13 | 9.339605e-12 |\n",
       "| 294579 | 10 |  96613370 |  96615354 | 1985 | * | 1985 | 14 | 0.5692894 | 0.8836058 | -0.3143163 | ⋯ | + | upstream | CYP2C9 | 10 |  96615354 | 0.1947525 | 0.9026179 | -0.7078653 | 1.328085e-20 | 1.235156e-18 |\n",
       "| 363051 | 10 |  96613370 |  96615354 | 1985 | * | 1985 | 14 | 0.5692894 | 0.8836058 | -0.3143163 | ⋯ | + | upstream | CYP2C9 | 10 |  96615353 | 0.1947525 | 0.9026179 | -0.7078653 | 1.730255e-17 | 1.309369e-15 |\n",
       "| 413177 | 3  | 192875686 | 192876063 |  378 | * |  378 |  5 | 0.3511177 | 0.8266226 | -0.4755049 | ⋯ | + | upstream | PLAAT1 | 3  | 192876062 | 0.1816746 | 0.8888607 | -0.7071861 | 1.279915e-15 | 8.445845e-14 |\n",
       "| 815281 | 3  | 192875686 | 192876063 |  378 | * |  378 |  5 | 0.3511177 | 0.8266226 | -0.4755049 | ⋯ | + | upstream | PLAAT1 | 3  | 192876063 | 0.1816746 | 0.8888607 | -0.7071861 | 6.989164e-08 | 1.818679e-06 |\n",
       "\n"
      ],
      "text/plain": [
       "       seqnames start     end       width strand region_length region_nCG\n",
       "283417 2        137576022 137576685  664  *       664          10        \n",
       "478501 2        137576022 137576685  664  *       664          10        \n",
       "294579 10        96613370  96615354 1985  *      1985          14        \n",
       "363051 10        96613370  96615354 1985  *      1985          14        \n",
       "413177 3        192875686 192876063  378  *       378           5        \n",
       "815281 3        192875686 192876063  378  *       378           5        \n",
       "       region_meanMethy1 region_meanMethy2 region_diff.Methy ⋯ gene_strand\n",
       "283417 0.4773263         0.8835023         -0.4061760        ⋯ +          \n",
       "478501 0.4773263         0.8835023         -0.4061760        ⋯ +          \n",
       "294579 0.5692894         0.8836058         -0.3143163        ⋯ +          \n",
       "363051 0.5692894         0.8836058         -0.3143163        ⋯ +          \n",
       "413177 0.3511177         0.8266226         -0.4755049        ⋯ +          \n",
       "815281 0.3511177         0.8266226         -0.4755049        ⋯ +          \n",
       "       region_relative_to_gene symbol cg_chr cg_pos    cg_mu1    cg_mu2   \n",
       "283417 inside                  THSD7B 2      137576022 0.2487971 0.9770900\n",
       "478501 inside                  THSD7B 2      137576023 0.2487971 0.9770900\n",
       "294579 upstream                CYP2C9 10      96615354 0.1947525 0.9026179\n",
       "363051 upstream                CYP2C9 10      96615353 0.1947525 0.9026179\n",
       "413177 upstream                PLAAT1 3      192876062 0.1816746 0.8888607\n",
       "815281 upstream                PLAAT1 3      192876063 0.1816746 0.8888607\n",
       "       cg_diff    cg_pval      cg_fdr      \n",
       "283417 -0.7282929 5.062759e-21 4.833831e-19\n",
       "478501 -0.7282929 1.692727e-13 9.339605e-12\n",
       "294579 -0.7078653 1.328085e-20 1.235156e-18\n",
       "363051 -0.7078653 1.730255e-17 1.309369e-15\n",
       "413177 -0.7071861 1.279915e-15 8.445845e-14\n",
       "815281 -0.7071861 6.989164e-08 1.818679e-06"
      ]
     },
     "metadata": {},
     "output_type": "display_data"
    }
   ],
   "source": [
    "if (grepl(\"_unpaired\", snakemake@wildcards$design)) {\n",
    "    merge_dml_dmr_signif <- cbind(\n",
    "        data.frame(overlapping_regions_in_dmr_signif_annot_gr),\n",
    "        overlapping_regions_in_dml_signif_df\n",
    "    )\n",
    "    colnames(merge_dml_dmr_signif) <- sub(\n",
    "        \"mcols.\",\n",
    "        \"\",\n",
    "        colnames(merge_dml_dmr_signif)\n",
    "    )\n",
    "\n",
    "    merge_dml_dmr_signif <- merge_dml_dmr_signif[order(-abs(merge_dml_dmr_signif$cg_diff)),]\n",
    "    head(merge_dml_dmr_signif)\n",
    "}"
   ]
  },
  {
   "cell_type": "code",
   "execution_count": 30,
   "id": "fd57794f-4169-44bc-a070-1babe6d55521",
   "metadata": {},
   "outputs": [
    {
     "data": {
      "text/html": [
       "<style>\n",
       ".list-inline {list-style: none; margin:0; padding: 0}\n",
       ".list-inline>li {display: inline-block}\n",
       ".list-inline>li:not(:last-child)::after {content: \"\\00b7\"; padding: 0 .5ex}\n",
       "</style>\n",
       "<ol class=list-inline><li>'region_chr'</li><li>'region_start'</li><li>'region_end'</li><li>'region_width'</li><li>'region_length'</li><li>'region_nCG'</li><li>'region_meanMethy1'</li><li>'region_meanMethy2'</li><li>'region_diff.Methy'</li><li>'region_areaStat'</li><li>'gene_start'</li><li>'gene_end'</li><li>'gene_strand'</li><li>'region_relative_to_gene'</li><li>'symbol'</li><li>'cg_chr'</li><li>'cg_pos'</li><li>'cg_mu1'</li><li>'cg_mu2'</li><li>'cg_diff'</li><li>'cg_pval'</li><li>'cg_fdr'</li></ol>\n"
      ],
      "text/latex": [
       "\\begin{enumerate*}\n",
       "\\item 'region\\_chr'\n",
       "\\item 'region\\_start'\n",
       "\\item 'region\\_end'\n",
       "\\item 'region\\_width'\n",
       "\\item 'region\\_length'\n",
       "\\item 'region\\_nCG'\n",
       "\\item 'region\\_meanMethy1'\n",
       "\\item 'region\\_meanMethy2'\n",
       "\\item 'region\\_diff.Methy'\n",
       "\\item 'region\\_areaStat'\n",
       "\\item 'gene\\_start'\n",
       "\\item 'gene\\_end'\n",
       "\\item 'gene\\_strand'\n",
       "\\item 'region\\_relative\\_to\\_gene'\n",
       "\\item 'symbol'\n",
       "\\item 'cg\\_chr'\n",
       "\\item 'cg\\_pos'\n",
       "\\item 'cg\\_mu1'\n",
       "\\item 'cg\\_mu2'\n",
       "\\item 'cg\\_diff'\n",
       "\\item 'cg\\_pval'\n",
       "\\item 'cg\\_fdr'\n",
       "\\end{enumerate*}\n"
      ],
      "text/markdown": [
       "1. 'region_chr'\n",
       "2. 'region_start'\n",
       "3. 'region_end'\n",
       "4. 'region_width'\n",
       "5. 'region_length'\n",
       "6. 'region_nCG'\n",
       "7. 'region_meanMethy1'\n",
       "8. 'region_meanMethy2'\n",
       "9. 'region_diff.Methy'\n",
       "10. 'region_areaStat'\n",
       "11. 'gene_start'\n",
       "12. 'gene_end'\n",
       "13. 'gene_strand'\n",
       "14. 'region_relative_to_gene'\n",
       "15. 'symbol'\n",
       "16. 'cg_chr'\n",
       "17. 'cg_pos'\n",
       "18. 'cg_mu1'\n",
       "19. 'cg_mu2'\n",
       "20. 'cg_diff'\n",
       "21. 'cg_pval'\n",
       "22. 'cg_fdr'\n",
       "\n",
       "\n"
      ],
      "text/plain": [
       " [1] \"region_chr\"              \"region_start\"           \n",
       " [3] \"region_end\"              \"region_width\"           \n",
       " [5] \"region_length\"           \"region_nCG\"             \n",
       " [7] \"region_meanMethy1\"       \"region_meanMethy2\"      \n",
       " [9] \"region_diff.Methy\"       \"region_areaStat\"        \n",
       "[11] \"gene_start\"              \"gene_end\"               \n",
       "[13] \"gene_strand\"             \"region_relative_to_gene\"\n",
       "[15] \"symbol\"                  \"cg_chr\"                 \n",
       "[17] \"cg_pos\"                  \"cg_mu1\"                 \n",
       "[19] \"cg_mu2\"                  \"cg_diff\"                \n",
       "[21] \"cg_pval\"                 \"cg_fdr\"                 "
      ]
     },
     "metadata": {},
     "output_type": "display_data"
    }
   ],
   "source": [
    "if (grepl(\"_unpaired\", snakemake@wildcards$design)) {\n",
    "    # Only keep the CG with the highest difference for each region\n",
    "    top_dml_dmr_signif <- merge_dml_dmr_signif[\n",
    "        !duplicated(\n",
    "            merge_dml_dmr_signif[\n",
    "                ,\n",
    "                c(\n",
    "                    \"seqnames\",\n",
    "                    \"start\",\n",
    "                    \"end\"\n",
    "                )\n",
    "            ]\n",
    "        ),\n",
    "    ]\n",
    "    top_dml_dmr_signif <- top_dml_dmr_signif[\n",
    "        order(\n",
    "            top_dml_dmr_signif$cg_pval,\n",
    "            -abs(top_dml_dmr_signif$cg_diff)),]\n",
    "    top_dml_dmr_signif <- rename(\n",
    "        top_dml_dmr_signif,\n",
    "        \"seqnames\" = \"region_chr\",\n",
    "        \"start\" = \"region_start\",\n",
    "        \"end\" = \"region_end\",\n",
    "        \"width\" = \"region_width\"\n",
    "    )\n",
    "    top_dml_dmr_signif$strand <- NULL\n",
    "    colnames(top_dml_dmr_signif)\n",
    "}"
   ]
  },
  {
   "cell_type": "code",
   "execution_count": 31,
   "id": "f7c02f93-1bcf-4ff5-b03d-56bcb0fd28d7",
   "metadata": {},
   "outputs": [],
   "source": [
    "# If design is unpaired, output the special object containing infos on the top DM CG for each DMR.\n",
    "if (grepl(\"_unpaired\", snakemake@wildcards$design)) {\n",
    "    write.xlsx(\n",
    "        x = top_dml_dmr_signif,\n",
    "        file = snakemake@output$xlsx,\n",
    "        overwrite = TRUE\n",
    "    )\n",
    "} else {\n",
    "    write.xlsx(\n",
    "        x = dmr_signif_annot_gr,\n",
    "        file = snakemake@output$xlsx,\n",
    "        overwrite = TRUE\n",
    "    )\n",
    "}"
   ]
  },
  {
   "cell_type": "markdown",
   "id": "0bc4ad9c-8e26-4ccf-98da-a1e45b624061",
   "metadata": {
    "slideshow": {
     "slide_type": "slide"
    },
    "tags": []
   },
   "source": [
    "# Results\n",
    "\n",
    "- Differentially methylated regions are available as [xlsx here](https://gcbio.info/reports/oncodiag_AHcsLfMNbisysKg74ati3uE7WEh0AMVfYXzTJEZVuvhOLUhW99/mw-oncodiag-data/out/ipynb/compute_differential_methylation/).\n",
    "- Each locus can be visually inspected using [this genome browser](https://gcbio.info/reports/oncodiag_AHcsLfMNbisysKg74ati3uE7WEh0AMVfYXzTJEZVuvhOLUhW99/mw-oncodiag/src/igv.js/test_methylation_bigwig_from_bedgraph.html)\n",
    "- You can easily copy the cells containing chr+start+end in the xlsx and paste it in the genome browser search field."
   ]
  },
  {
   "cell_type": "code",
   "execution_count": 32,
   "id": "e0ecf00f-eb86-42dc-8f2a-34c10faf5600",
   "metadata": {},
   "outputs": [],
   "source": [
    "# p <- ggsummarystats(\n",
    "#     dmr_signif_res,\n",
    "#     y = c(\"length\", \"diff.Methy\")\n",
    "# )\n",
    "# p"
   ]
  },
  {
   "cell_type": "markdown",
   "id": "53501a18-b2c3-49e0-b736-61880c676c72",
   "metadata": {
    "slideshow": {
     "slide_type": "slide"
    },
    "tags": []
   },
   "source": [
    "## Properties of the differentially methylated regions"
   ]
  },
  {
   "cell_type": "code",
   "execution_count": 33,
   "id": "05afb26a-81bb-4bd1-b473-e24daebc99a9",
   "metadata": {
    "tags": [
     "remove-input"
    ]
   },
   "outputs": [
    {
     "data": {
      "image/png": "[encoded data removed]",
      "text/plain": [
       "plot without title"
      ]
     },
     "metadata": {
      "image/png": {
       "height": 540,
       "width": 960
      }
     },
     "output_type": "display_data"
    }
   ],
   "source": [
    "p <- ggplot(\n",
    "    dmr_signif_res,\n",
    "    aes(\n",
    "        x = length,\n",
    "        y = diff.Methy\n",
    "    )\n",
    ")\n",
    "p <- p + geom_point(alpha=0.1)\n",
    "p"
   ]
  },
  {
   "cell_type": "markdown",
   "id": "690750b5-2db6-441b-a25a-922ea558a81a",
   "metadata": {
    "slideshow": {
     "slide_type": "slide"
    },
    "tags": []
   },
   "source": [
    "## Focus on the key genes of interest\n",
    "\n",
    "If any differentially methylated region is associated with the key genes of interest, they are listed below."
   ]
  },
  {
   "cell_type": "code",
   "execution_count": 39,
   "id": "d8772f7f-bfac-48f8-b312-19a5a0202809",
   "metadata": {
    "tags": [
     "remove-input"
    ]
   },
   "outputs": [
    {
     "data": {
      "text/html": [
       "<table class=\"dataframe\">\n",
       "<caption>A data.frame: 28 × 8</caption>\n",
       "<thead>\n",
       "\t<tr><th scope=col>seqnames</th><th scope=col>start</th><th scope=col>end</th><th scope=col>width</th><th scope=col>strand</th><th scope=col>region_diff.Methy</th><th scope=col>region_relative_to_gene</th><th scope=col>symbol</th></tr>\n",
       "\t<tr><th scope=col>&lt;fct&gt;</th><th scope=col>&lt;int&gt;</th><th scope=col>&lt;int&gt;</th><th scope=col>&lt;int&gt;</th><th scope=col>&lt;fct&gt;</th><th scope=col>&lt;dbl&gt;</th><th scope=col>&lt;chr&gt;</th><th scope=col>&lt;chr&gt;</th></tr>\n",
       "</thead>\n",
       "<tbody>\n",
       "\t<tr><td>12</td><td>111536059</td><td>111537297</td><td>1239</td><td>*</td><td> 0.2847670</td><td>inside  </td><td>CUX2   </td></tr>\n",
       "\t<tr><td>12</td><td>111618609</td><td>111619502</td><td> 894</td><td>*</td><td> 0.2787974</td><td>inside  </td><td>CUX2   </td></tr>\n",
       "\t<tr><td>12</td><td>111501178</td><td>111501764</td><td> 587</td><td>*</td><td> 0.2911073</td><td>inside  </td><td>CUX2   </td></tr>\n",
       "\t<tr><td>12</td><td>111631841</td><td>111632579</td><td> 739</td><td>*</td><td> 0.2324777</td><td>inside  </td><td>CUX2   </td></tr>\n",
       "\t<tr><td>12</td><td>111638885</td><td>111639444</td><td> 560</td><td>*</td><td> 0.2071457</td><td>inside  </td><td>CUX2   </td></tr>\n",
       "\t<tr><td>6 </td><td>160770788</td><td>160771536</td><td> 749</td><td>*</td><td>-0.2500786</td><td>inside  </td><td>SLC22A3</td></tr>\n",
       "\t<tr><td>12</td><td>111581066</td><td>111581286</td><td> 221</td><td>*</td><td> 0.1942836</td><td>inside  </td><td>CUX2   </td></tr>\n",
       "\t<tr><td>6 </td><td>160778350</td><td>160778639</td><td> 290</td><td>*</td><td> 0.2378321</td><td>inside  </td><td>SLC22A3</td></tr>\n",
       "\t<tr><td>6 </td><td>160799455</td><td>160800030</td><td> 576</td><td>*</td><td> 0.2383986</td><td>inside  </td><td>SLC22A3</td></tr>\n",
       "\t<tr><td>12</td><td>111474595</td><td>111474816</td><td> 222</td><td>*</td><td>-0.1577377</td><td>inside  </td><td>CUX2   </td></tr>\n",
       "\t<tr><td>12</td><td>111588431</td><td>111588682</td><td> 252</td><td>*</td><td> 0.1840359</td><td>inside  </td><td>CUX2   </td></tr>\n",
       "\t<tr><td>6 </td><td>160829657</td><td>160829920</td><td> 264</td><td>*</td><td>-0.3034639</td><td>inside  </td><td>SLC22A3</td></tr>\n",
       "\t<tr><td>6 </td><td>160848968</td><td>160849441</td><td> 474</td><td>*</td><td> 0.2251882</td><td>inside  </td><td>SLC22A3</td></tr>\n",
       "\t<tr><td>12</td><td>111616502</td><td>111616608</td><td> 107</td><td>*</td><td> 0.1661138</td><td>inside  </td><td>CUX2   </td></tr>\n",
       "\t<tr><td>6 </td><td>160777542</td><td>160777925</td><td> 384</td><td>*</td><td> 0.2802868</td><td>inside  </td><td>SLC22A3</td></tr>\n",
       "\t<tr><td>12</td><td>111597454</td><td>111597599</td><td> 146</td><td>*</td><td>-0.2236172</td><td>inside  </td><td>CUX2   </td></tr>\n",
       "\t<tr><td>12</td><td>111596410</td><td>111596607</td><td> 198</td><td>*</td><td>-0.2249064</td><td>inside  </td><td>CUX2   </td></tr>\n",
       "\t<tr><td>4 </td><td> 79417393</td><td> 79417584</td><td> 192</td><td>*</td><td> 0.2824786</td><td>upstream</td><td>ANXA3  </td></tr>\n",
       "\t<tr><td>12</td><td>111475794</td><td>111475896</td><td> 103</td><td>*</td><td>-0.2378877</td><td>inside  </td><td>CUX2   </td></tr>\n",
       "\t<tr><td>12</td><td>111545295</td><td>111545414</td><td> 120</td><td>*</td><td> 0.3334744</td><td>inside  </td><td>CUX2   </td></tr>\n",
       "\t<tr><td>4 </td><td> 79438707</td><td> 79440028</td><td>1322</td><td>*</td><td>-0.2732816</td><td>upstream</td><td>ANXA3  </td></tr>\n",
       "\t<tr><td>4 </td><td> 79375316</td><td> 79375417</td><td> 102</td><td>*</td><td> 0.2176043</td><td>upstream</td><td>ANXA3  </td></tr>\n",
       "\t<tr><td>12</td><td>111474449</td><td>111474523</td><td>  75</td><td>*</td><td>-0.1711514</td><td>inside  </td><td>CUX2   </td></tr>\n",
       "\t<tr><td>4 </td><td> 79489967</td><td> 79490198</td><td> 232</td><td>*</td><td> 0.2428465</td><td>inside  </td><td>ANXA3  </td></tr>\n",
       "\t<tr><td>4 </td><td> 79296530</td><td> 79296587</td><td>  58</td><td>*</td><td>-0.2526699</td><td>upstream</td><td>ANXA3  </td></tr>\n",
       "\t<tr><td>6 </td><td>160813244</td><td>160813425</td><td> 182</td><td>*</td><td>-0.2646978</td><td>inside  </td><td>SLC22A3</td></tr>\n",
       "\t<tr><td>4 </td><td> 79466608</td><td> 79466667</td><td>  60</td><td>*</td><td> 0.2712892</td><td>upstream</td><td>ANXA3  </td></tr>\n",
       "\t<tr><td>4 </td><td> 79427241</td><td> 79427312</td><td>  72</td><td>*</td><td>-0.2432603</td><td>upstream</td><td>ANXA3  </td></tr>\n",
       "</tbody>\n",
       "</table>\n"
      ],
      "text/latex": [
       "A data.frame: 28 × 8\n",
       "\\begin{tabular}{llllllll}\n",
       " seqnames & start & end & width & strand & region\\_diff.Methy & region\\_relative\\_to\\_gene & symbol\\\\\n",
       " <fct> & <int> & <int> & <int> & <fct> & <dbl> & <chr> & <chr>\\\\\n",
       "\\hline\n",
       "\t 12 & 111536059 & 111537297 & 1239 & * &  0.2847670 & inside   & CUX2   \\\\\n",
       "\t 12 & 111618609 & 111619502 &  894 & * &  0.2787974 & inside   & CUX2   \\\\\n",
       "\t 12 & 111501178 & 111501764 &  587 & * &  0.2911073 & inside   & CUX2   \\\\\n",
       "\t 12 & 111631841 & 111632579 &  739 & * &  0.2324777 & inside   & CUX2   \\\\\n",
       "\t 12 & 111638885 & 111639444 &  560 & * &  0.2071457 & inside   & CUX2   \\\\\n",
       "\t 6  & 160770788 & 160771536 &  749 & * & -0.2500786 & inside   & SLC22A3\\\\\n",
       "\t 12 & 111581066 & 111581286 &  221 & * &  0.1942836 & inside   & CUX2   \\\\\n",
       "\t 6  & 160778350 & 160778639 &  290 & * &  0.2378321 & inside   & SLC22A3\\\\\n",
       "\t 6  & 160799455 & 160800030 &  576 & * &  0.2383986 & inside   & SLC22A3\\\\\n",
       "\t 12 & 111474595 & 111474816 &  222 & * & -0.1577377 & inside   & CUX2   \\\\\n",
       "\t 12 & 111588431 & 111588682 &  252 & * &  0.1840359 & inside   & CUX2   \\\\\n",
       "\t 6  & 160829657 & 160829920 &  264 & * & -0.3034639 & inside   & SLC22A3\\\\\n",
       "\t 6  & 160848968 & 160849441 &  474 & * &  0.2251882 & inside   & SLC22A3\\\\\n",
       "\t 12 & 111616502 & 111616608 &  107 & * &  0.1661138 & inside   & CUX2   \\\\\n",
       "\t 6  & 160777542 & 160777925 &  384 & * &  0.2802868 & inside   & SLC22A3\\\\\n",
       "\t 12 & 111597454 & 111597599 &  146 & * & -0.2236172 & inside   & CUX2   \\\\\n",
       "\t 12 & 111596410 & 111596607 &  198 & * & -0.2249064 & inside   & CUX2   \\\\\n",
       "\t 4  &  79417393 &  79417584 &  192 & * &  0.2824786 & upstream & ANXA3  \\\\\n",
       "\t 12 & 111475794 & 111475896 &  103 & * & -0.2378877 & inside   & CUX2   \\\\\n",
       "\t 12 & 111545295 & 111545414 &  120 & * &  0.3334744 & inside   & CUX2   \\\\\n",
       "\t 4  &  79438707 &  79440028 & 1322 & * & -0.2732816 & upstream & ANXA3  \\\\\n",
       "\t 4  &  79375316 &  79375417 &  102 & * &  0.2176043 & upstream & ANXA3  \\\\\n",
       "\t 12 & 111474449 & 111474523 &   75 & * & -0.1711514 & inside   & CUX2   \\\\\n",
       "\t 4  &  79489967 &  79490198 &  232 & * &  0.2428465 & inside   & ANXA3  \\\\\n",
       "\t 4  &  79296530 &  79296587 &   58 & * & -0.2526699 & upstream & ANXA3  \\\\\n",
       "\t 6  & 160813244 & 160813425 &  182 & * & -0.2646978 & inside   & SLC22A3\\\\\n",
       "\t 4  &  79466608 &  79466667 &   60 & * &  0.2712892 & upstream & ANXA3  \\\\\n",
       "\t 4  &  79427241 &  79427312 &   72 & * & -0.2432603 & upstream & ANXA3  \\\\\n",
       "\\end{tabular}\n"
      ],
      "text/markdown": [
       "\n",
       "A data.frame: 28 × 8\n",
       "\n",
       "| seqnames &lt;fct&gt; | start &lt;int&gt; | end &lt;int&gt; | width &lt;int&gt; | strand &lt;fct&gt; | region_diff.Methy &lt;dbl&gt; | region_relative_to_gene &lt;chr&gt; | symbol &lt;chr&gt; |\n",
       "|---|---|---|---|---|---|---|---|\n",
       "| 12 | 111536059 | 111537297 | 1239 | * |  0.2847670 | inside   | CUX2    |\n",
       "| 12 | 111618609 | 111619502 |  894 | * |  0.2787974 | inside   | CUX2    |\n",
       "| 12 | 111501178 | 111501764 |  587 | * |  0.2911073 | inside   | CUX2    |\n",
       "| 12 | 111631841 | 111632579 |  739 | * |  0.2324777 | inside   | CUX2    |\n",
       "| 12 | 111638885 | 111639444 |  560 | * |  0.2071457 | inside   | CUX2    |\n",
       "| 6  | 160770788 | 160771536 |  749 | * | -0.2500786 | inside   | SLC22A3 |\n",
       "| 12 | 111581066 | 111581286 |  221 | * |  0.1942836 | inside   | CUX2    |\n",
       "| 6  | 160778350 | 160778639 |  290 | * |  0.2378321 | inside   | SLC22A3 |\n",
       "| 6  | 160799455 | 160800030 |  576 | * |  0.2383986 | inside   | SLC22A3 |\n",
       "| 12 | 111474595 | 111474816 |  222 | * | -0.1577377 | inside   | CUX2    |\n",
       "| 12 | 111588431 | 111588682 |  252 | * |  0.1840359 | inside   | CUX2    |\n",
       "| 6  | 160829657 | 160829920 |  264 | * | -0.3034639 | inside   | SLC22A3 |\n",
       "| 6  | 160848968 | 160849441 |  474 | * |  0.2251882 | inside   | SLC22A3 |\n",
       "| 12 | 111616502 | 111616608 |  107 | * |  0.1661138 | inside   | CUX2    |\n",
       "| 6  | 160777542 | 160777925 |  384 | * |  0.2802868 | inside   | SLC22A3 |\n",
       "| 12 | 111597454 | 111597599 |  146 | * | -0.2236172 | inside   | CUX2    |\n",
       "| 12 | 111596410 | 111596607 |  198 | * | -0.2249064 | inside   | CUX2    |\n",
       "| 4  |  79417393 |  79417584 |  192 | * |  0.2824786 | upstream | ANXA3   |\n",
       "| 12 | 111475794 | 111475896 |  103 | * | -0.2378877 | inside   | CUX2    |\n",
       "| 12 | 111545295 | 111545414 |  120 | * |  0.3334744 | inside   | CUX2    |\n",
       "| 4  |  79438707 |  79440028 | 1322 | * | -0.2732816 | upstream | ANXA3   |\n",
       "| 4  |  79375316 |  79375417 |  102 | * |  0.2176043 | upstream | ANXA3   |\n",
       "| 12 | 111474449 | 111474523 |   75 | * | -0.1711514 | inside   | CUX2    |\n",
       "| 4  |  79489967 |  79490198 |  232 | * |  0.2428465 | inside   | ANXA3   |\n",
       "| 4  |  79296530 |  79296587 |   58 | * | -0.2526699 | upstream | ANXA3   |\n",
       "| 6  | 160813244 | 160813425 |  182 | * | -0.2646978 | inside   | SLC22A3 |\n",
       "| 4  |  79466608 |  79466667 |   60 | * |  0.2712892 | upstream | ANXA3   |\n",
       "| 4  |  79427241 |  79427312 |   72 | * | -0.2432603 | upstream | ANXA3   |\n",
       "\n"
      ],
      "text/plain": [
       "   seqnames start     end       width strand region_diff.Methy\n",
       "1  12       111536059 111537297 1239  *       0.2847670       \n",
       "2  12       111618609 111619502  894  *       0.2787974       \n",
       "3  12       111501178 111501764  587  *       0.2911073       \n",
       "4  12       111631841 111632579  739  *       0.2324777       \n",
       "5  12       111638885 111639444  560  *       0.2071457       \n",
       "6  6        160770788 160771536  749  *      -0.2500786       \n",
       "7  12       111581066 111581286  221  *       0.1942836       \n",
       "8  6        160778350 160778639  290  *       0.2378321       \n",
       "9  6        160799455 160800030  576  *       0.2383986       \n",
       "10 12       111474595 111474816  222  *      -0.1577377       \n",
       "11 12       111588431 111588682  252  *       0.1840359       \n",
       "12 6        160829657 160829920  264  *      -0.3034639       \n",
       "13 6        160848968 160849441  474  *       0.2251882       \n",
       "14 12       111616502 111616608  107  *       0.1661138       \n",
       "15 6        160777542 160777925  384  *       0.2802868       \n",
       "16 12       111597454 111597599  146  *      -0.2236172       \n",
       "17 12       111596410 111596607  198  *      -0.2249064       \n",
       "18 4         79417393  79417584  192  *       0.2824786       \n",
       "19 12       111475794 111475896  103  *      -0.2378877       \n",
       "20 12       111545295 111545414  120  *       0.3334744       \n",
       "21 4         79438707  79440028 1322  *      -0.2732816       \n",
       "22 4         79375316  79375417  102  *       0.2176043       \n",
       "23 12       111474449 111474523   75  *      -0.1711514       \n",
       "24 4         79489967  79490198  232  *       0.2428465       \n",
       "25 4         79296530  79296587   58  *      -0.2526699       \n",
       "26 6        160813244 160813425  182  *      -0.2646978       \n",
       "27 4         79466608  79466667   60  *       0.2712892       \n",
       "28 4         79427241  79427312   72  *      -0.2432603       \n",
       "   region_relative_to_gene symbol \n",
       "1  inside                  CUX2   \n",
       "2  inside                  CUX2   \n",
       "3  inside                  CUX2   \n",
       "4  inside                  CUX2   \n",
       "5  inside                  CUX2   \n",
       "6  inside                  SLC22A3\n",
       "7  inside                  CUX2   \n",
       "8  inside                  SLC22A3\n",
       "9  inside                  SLC22A3\n",
       "10 inside                  CUX2   \n",
       "11 inside                  CUX2   \n",
       "12 inside                  SLC22A3\n",
       "13 inside                  SLC22A3\n",
       "14 inside                  CUX2   \n",
       "15 inside                  SLC22A3\n",
       "16 inside                  CUX2   \n",
       "17 inside                  CUX2   \n",
       "18 upstream                ANXA3  \n",
       "19 inside                  CUX2   \n",
       "20 inside                  CUX2   \n",
       "21 upstream                ANXA3  \n",
       "22 upstream                ANXA3  \n",
       "23 inside                  CUX2   \n",
       "24 inside                  ANXA3  \n",
       "25 upstream                ANXA3  \n",
       "26 inside                  SLC22A3\n",
       "27 upstream                ANXA3  \n",
       "28 upstream                ANXA3  "
      ]
     },
     "metadata": {},
     "output_type": "display_data"
    }
   ],
   "source": [
    "data.frame(\n",
    "    dmr_signif_annot_gr[\n",
    "        dmr_signif_annot_gr$symbol %in% c(\n",
    "            \"SLC22A3\",\n",
    "            \"ANXA3\",\n",
    "            \"CUX2\"\n",
    "        ),\n",
    "        c(\n",
    "            #\"seqnames\", \"start\", \"end\", \n",
    "            \"region_diff.Methy\", \n",
    "            \"region_relative_to_gene\",\n",
    "            \"symbol\"\n",
    "        )\n",
    "    ]\n",
    ")"
   ]
  },
  {
   "cell_type": "markdown",
   "id": "bae64fe4-99bd-4914-b41a-9148a357c2fd",
   "metadata": {
    "slideshow": {
     "slide_type": "slide"
    },
    "tags": []
   },
   "source": [
    "## Focus on top differentially methylated regions"
   ]
  },
  {
   "cell_type": "code",
   "execution_count": null,
   "id": "bbcf5ef7-53a7-4535-8b91-b23b8abc5a64",
   "metadata": {
    "slideshow": {
     "slide_type": "slide"
    },
    "tags": []
   },
   "outputs": [],
   "source": [
    "if (grepl(\"^ODG_\", snakemake@wildcards$design)) {\n",
    "    showOneDMR(\n",
    "        dmr_signif_res[1,],\n",
    "        bsseq_stranded[,1:2]\n",
    "    )\n",
    "} else {\n",
    "    showOneDMR(\n",
    "        dmr_signif_res[1,],\n",
    "        bsseq_stranded[,1:min(6, ncol(bsseq_stranded))]\n",
    "    )\n",
    "}"
   ]
  },
  {
   "cell_type": "code",
   "execution_count": null,
   "id": "68488018-8636-4761-98c4-2379c09b5e76",
   "metadata": {
    "slideshow": {
     "slide_type": "subslide"
    },
    "tags": []
   },
   "outputs": [],
   "source": [
    "if (ncol(bsseq_stranded) > 6) {\n",
    "    showOneDMR(\n",
    "        dmr_signif_res[1,],\n",
    "        bsseq_stranded[,7:min(12, ncol(bsseq_stranded))]\n",
    "    )\n",
    "} else {\n",
    "    print(\"This slide is empty in the current design\")\n",
    "}"
   ]
  },
  {
   "cell_type": "code",
   "execution_count": null,
   "id": "8467ae21-a395-406f-84a6-ef91b949f5f7",
   "metadata": {
    "slideshow": {
     "slide_type": "subslide"
    },
    "tags": []
   },
   "outputs": [],
   "source": [
    "if (ncol(bsseq_stranded) > 12) {\n",
    "    showOneDMR(\n",
    "        dmr_signif_res[1,],\n",
    "        bsseq_stranded[,13:min(18, ncol(bsseq_stranded))]\n",
    "    )\n",
    "} else {\n",
    "    print(\"This slide is empty in the current design\")\n",
    "}"
   ]
  }
 ],
 "metadata": {
  "kernelspec": {
   "display_name": "R",
   "language": "R",
   "name": "ir"
  },
  "language_info": {
   "codemirror_mode": "r",
   "file_extension": ".r",
   "mimetype": "text/x-r-source",
   "name": "R",
   "pygments_lexer": "r",
   "version": "4.0.5"
  }
 },
 "nbformat": 4,
 "nbformat_minor": 5
}
