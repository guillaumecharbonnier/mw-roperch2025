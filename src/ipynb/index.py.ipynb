{
 "cells": [
  {
   "cell_type": "code",
   "execution_count": 1,
   "id": "fbaaed44",
   "metadata": {
    "slideshow": {
     "slide_type": "skip"
    },
    "tags": [
     "snakemake-job-properties"
    ]
   },
   "outputs": [],
   "source": [
    "\n",
    "######## snakemake preamble start (automatically inserted, do not edit) ########\n",
    "import sys; sys.path.extend(['/cobelix/spicuglia/mambaforge/envs/snakemake/lib/python3.11/site-packages', '/data/thymus/mw/mw-oncodiag/src/ipynb']); import pickle; snakemake = pickle.loads(b'\\x80\\x04\\x95\\xd9\\x03\\x00\\x00\\x00\\x00\\x00\\x00\\x8c\\x10snakemake.script\\x94\\x8c\\tSnakemake\\x94\\x93\\x94)\\x81\\x94}\\x94(\\x8c\\x05input\\x94\\x8c\\x0csnakemake.io\\x94\\x8c\\nInputFiles\\x94\\x93\\x94)\\x81\\x94}\\x94(\\x8c\\x06_names\\x94}\\x94\\x8c\\x12_allowed_overrides\\x94]\\x94(\\x8c\\x05index\\x94\\x8c\\x04sort\\x94eh\\x0f\\x8c\\tfunctools\\x94\\x8c\\x07partial\\x94\\x93\\x94h\\x06\\x8c\\x19Namedlist._used_attribute\\x94\\x93\\x94\\x85\\x94R\\x94(h\\x15)}\\x94\\x8c\\x05_name\\x94h\\x0fsNt\\x94bh\\x10h\\x13h\\x15\\x85\\x94R\\x94(h\\x15)}\\x94h\\x19h\\x10sNt\\x94bub\\x8c\\x06output\\x94h\\x06\\x8c\\x0bOutputFiles\\x94\\x93\\x94)\\x81\\x94\\x8c\\x14out/ipynb/index.html\\x94a}\\x94(h\\x0b}\\x94h\\r]\\x94(h\\x0fh\\x10eh\\x0fh\\x13h\\x15\\x85\\x94R\\x94(h\\x15)}\\x94h\\x19h\\x0fsNt\\x94bh\\x10h\\x13h\\x15\\x85\\x94R\\x94(h\\x15)}\\x94h\\x19h\\x10sNt\\x94bub\\x8c\\x06params\\x94h\\x06\\x8c\\x06Params\\x94\\x93\\x94)\\x81\\x94}\\x94(h\\x0b}\\x94h\\r]\\x94(h\\x0fh\\x10eh\\x0fh\\x13h\\x15\\x85\\x94R\\x94(h\\x15)}\\x94h\\x19h\\x0fsNt\\x94bh\\x10h\\x13h\\x15\\x85\\x94R\\x94(h\\x15)}\\x94h\\x19h\\x10sNt\\x94bub\\x8c\\twildcards\\x94h\\x06\\x8c\\tWildcards\\x94\\x93\\x94)\\x81\\x94}\\x94(h\\x0b}\\x94h\\r]\\x94(h\\x0fh\\x10eh\\x0fh\\x13h\\x15\\x85\\x94R\\x94(h\\x15)}\\x94h\\x19h\\x0fsNt\\x94bh\\x10h\\x13h\\x15\\x85\\x94R\\x94(h\\x15)}\\x94h\\x19h\\x10sNt\\x94bub\\x8c\\x07threads\\x94K\\x01\\x8c\\tresources\\x94h\\x06\\x8c\\tResources\\x94\\x93\\x94)\\x81\\x94(K\\x01K\\x01\\x8c\\x04/tmp\\x94e}\\x94(h\\x0b}\\x94(\\x8c\\x06_cores\\x94K\\x00N\\x86\\x94\\x8c\\x06_nodes\\x94K\\x01N\\x86\\x94\\x8c\\x06tmpdir\\x94K\\x02N\\x86\\x94uh\\r]\\x94(h\\x0fh\\x10eh\\x0fh\\x13h\\x15\\x85\\x94R\\x94(h\\x15)}\\x94h\\x19h\\x0fsNt\\x94bh\\x10h\\x13h\\x15\\x85\\x94R\\x94(h\\x15)}\\x94h\\x19h\\x10sNt\\x94bhUK\\x01hWK\\x01hYhRub\\x8c\\x03log\\x94h\\x06\\x8c\\x03Log\\x94\\x93\\x94)\\x81\\x94\\x8c\\x18out/ipynb/index.py.ipynb\\x94a}\\x94(h\\x0b}\\x94\\x8c\\x08notebook\\x94K\\x00N\\x86\\x94sh\\r]\\x94(h\\x0fh\\x10eh\\x0fh\\x13h\\x15\\x85\\x94R\\x94(h\\x15)}\\x94h\\x19h\\x0fsNt\\x94bh\\x10h\\x13h\\x15\\x85\\x94R\\x94(h\\x15)}\\x94h\\x19h\\x10sNt\\x94bhkhhub\\x8c\\x06config\\x94}\\x94\\x8c\\x04rule\\x94\\x8c\\x0bipynb_index\\x94\\x8c\\x0fbench_iteration\\x94N\\x8c\\tscriptdir\\x94\\x8c%/data/thymus/mw/mw-oncodiag/src/ipynb\\x94ub.'); from snakemake.logging import logger; logger.printshellcmds = False; import os; os.chdir(r'/data/thymus/mw/mw-oncodiag');\n",
    "######## snakemake preamble end #########\n"
   ]
  },
  {
   "cell_type": "code",
   "execution_count": 2,
   "id": "1c74a2fe",
   "metadata": {
    "slideshow": {
     "slide_type": "skip"
    },
    "tags": []
   },
   "outputs": [],
   "source": [
    "# start coding here"
   ]
  },
  {
   "cell_type": "markdown",
   "id": "139be600-3fe6-456f-814f-f4d4c0d55d52",
   "metadata": {},
   "source": [
    "_Index_\n",
    "\n",
    "__Oncodiag project__\n",
    "\n",
    "[Guillaume Charbonnier](mailto:gc.bioinfo@gmail.com)\n",
    "\n",
    "2022-11-01"
   ]
  },
  {
   "cell_type": "markdown",
   "id": "1e78623c-e2c5-4297-b3cd-c154dbab1503",
   "metadata": {},
   "source": [
    "# Abstract\n",
    "\n",
    "Here is the index for the analyses done for the Oncodiag project. Three versions are available for each analysis:\n",
    "\n",
    "- HTML slides:  for presentations, with some hidden input code (cell tag=remove-input) and cells (slide type=skip)\n",
    "- HTML with TOC: for reading, with some hidden input code (cell tag=remove-input)\n",
    "- ipynb source: for editing and reading with no hidden content. [Ask me](mailto:gc.bioinfo@gmail.com) if you are interested and not sure where to start."
   ]
  },
  {
   "cell_type": "markdown",
   "id": "5f7f8ec4-3740-4e1c-9e31-9f86c8677d57",
   "metadata": {},
   "source": [
    "# Results"
   ]
  },
  {
   "cell_type": "code",
   "execution_count": 3,
   "id": "42864485-6489-4522-94c8-f1548d7e2df1",
   "metadata": {},
   "outputs": [
    {
     "name": "stdout",
     "output_type": "stream",
     "text": [
      "/data/thymus/mw/mw-oncodiag-data/out/ipynb\n"
     ]
    }
   ],
   "source": [
    "import os\n",
    "# os.chdir(os.path.dirname(__file__))\n",
    "os.chdir(\"out/ipynb\")\n",
    "print(os.getcwd())\n"
   ]
  },
  {
   "cell_type": "code",
   "execution_count": 4,
   "id": "ef357a77-e8e8-4239-b603-1bbce6d08e1c",
   "metadata": {
    "tags": [
     "remove-input"
    ]
   },
   "outputs": [
    {
     "data": {
      "text/markdown": [
       "| Analysis name | html with TOC | html slides | ipynb source | \n",
       " | --- | --- | --- | --- | \n",
       "| compute_differential_methylation/ODG_082.r | [link](compute_differential_methylation/ODG_082.r.html) | [link](compute_differential_methylation/ODG_082.r.slides.html) | [link](compute_differential_methylation/ODG_082.r.ipynb) |\n"
      ],
      "text/plain": [
       "<IPython.core.display.Markdown object>"
      ]
     },
     "metadata": {},
     "output_type": "display_data"
    }
   ],
   "source": [
    "from IPython.display import display, Markdown\n",
    "import glob\n",
    "ipynb_files = sorted(glob.glob(\"**/*.ipynb\"))\n",
    "\n",
    "md_table = '| Analysis name | html with TOC | html slides | ipynb source | \\n | --- | --- | --- | --- | \\n'\n",
    "\n",
    "for file in ipynb_files:\n",
    "    if file != \"index.ipynb\":\n",
    "        prefix = file.replace(\".ipynb\",\"\")\n",
    "        md_table_row = \"| \" + prefix + \" | [link](\" + prefix + \".html) | [link](\" + prefix + \".slides.html) | [link](\" + prefix + \".ipynb) |\\n\"\n",
    "        md_table = md_table + md_table_row\n",
    "\n",
    "display(Markdown(md_table))"
   ]
  },
  {
   "cell_type": "markdown",
   "id": "48ea1853-970b-42d7-90c8-89bdf63ee964",
   "metadata": {},
   "source": [
    "# Methods"
   ]
  },
  {
   "cell_type": "markdown",
   "id": "10de9469-0e54-493e-88ec-00fbd4cdfb01",
   "metadata": {
    "tags": []
   },
   "source": [
    "These ipython notebooks (ipynb) were written and compiled on Turbine-B using Jupyter Lab from the conda environment deployed in this path: `/home/gcharbonnier/miniconda3/envs/jupyter_tall_pediac/bin/jupyter`.\n",
    "They were exported as html using these commands:"
   ]
  },
  {
   "cell_type": "code",
   "execution_count": 9,
   "id": "69e4ecb9-4124-4fc5-9e63-b12cabed8504",
   "metadata": {},
   "outputs": [
    {
     "name": "stdout",
     "output_type": "stream",
     "text": [
      "[NbConvertApp] Converting notebook compute_differential_methylation/ODG_082.r.ipynb to slides\n",
      "[NbConvertApp] Writing 1142840 bytes to compute_differential_methylation/ODG_082.r.slides.html\n"
     ]
    }
   ],
   "source": [
    "!jupyter nbconvert **/*.ipynb --to slides --no-input --no-prompt --TagRemovePreprocessor.remove_input_tags=\"remove-input\" --SlidesExporter.reveal_scroll=True --SlidesExporter.reveal_theme=white"
   ]
  },
  {
   "cell_type": "code",
   "execution_count": 6,
   "id": "c6b28797-3ff9-4530-affe-880ca6541a20",
   "metadata": {},
   "outputs": [],
   "source": [
    "#!jupyter nbconvert **/*.ipynb --to html_toc --no-prompt --TagRemovePreprocessor.remove_input_tags=\"remove-input\""
   ]
  },
  {
   "cell_type": "code",
   "execution_count": 7,
   "id": "86ba67e4-07a0-4864-8348-e661254d9bf4",
   "metadata": {},
   "outputs": [
    {
     "name": "stdout",
     "output_type": "stream",
     "text": [
      "compute_differential_methylation  index.py.ipynb  test.rds\n",
      "index.py.html\t\t\t  test.r.ipynb\n"
     ]
    }
   ],
   "source": [
    "!ls"
   ]
  },
  {
   "cell_type": "code",
   "execution_count": 8,
   "id": "5e909e3e-8c10-4851-b18c-ddde70cabcc0",
   "metadata": {},
   "outputs": [
    {
     "name": "stdout",
     "output_type": "stream",
     "text": [
      "[NbConvertApp] Converting notebook index.py.ipynb to html\n",
      "[NbConvertApp] Writing 608626 bytes to index.py.html\n"
     ]
    }
   ],
   "source": [
    "!jupyter nbconvert index.py.ipynb --to html --no-prompt --TagRemovePreprocessor.remove_input_tags=\"remove-input\""
   ]
  },
  {
   "cell_type": "code",
   "execution_count": null,
   "id": "b9efa2aa-aa56-49b3-b19e-8feaf49b81e0",
   "metadata": {},
   "outputs": [],
   "source": []
  }
 ],
 "metadata": {
  "kernelspec": {
   "display_name": "Python 3 (ipykernel)",
   "language": "python",
   "name": "python3"
  },
  "language_info": {
   "codemirror_mode": {
    "name": "ipython",
    "version": 3
   },
   "file_extension": ".py",
   "mimetype": "text/x-python",
   "name": "python",
   "nbconvert_exporter": "python",
   "pygments_lexer": "ipython3",
   "version": "3.8.15"
  }
 },
 "nbformat": 4,
 "nbformat_minor": 5
}
